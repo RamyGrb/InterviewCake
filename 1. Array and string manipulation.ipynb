{
 "cells": [
  {
   "cell_type": "markdown",
   "metadata": {},
   "source": [
    "### Merging Meeting Times"
   ]
  },
  {
   "cell_type": "markdown",
   "metadata": {},
   "source": [
    "Your company built an in-house calendar tool called HiCal. You want to add a feature to see the times in a day when everyone is available."
   ]
  },
  {
   "cell_type": "code",
   "execution_count": 348,
   "metadata": {},
   "outputs": [],
   "source": [
    "def merging(meetings):\n",
    "    booked = []\n",
    "    booked_prev = [] \n",
    "    added = False\n",
    "    \n",
    "    for j,(first_m, second_m) in enumerate(meetings):\n",
    "        booked_prev = booked.copy()\n",
    "        added = False\n",
    "        \n",
    "        if j == 0:\n",
    "            booked.append(meetings[0]) \n",
    "            continue        \n",
    "            \n",
    "        for i,(first_b,second_b) in enumerate(booked_prev):\n",
    "\n",
    "            if i<len(booked_prev)-1:\n",
    "                \n",
    "                # if booking during available time\n",
    "                if first_m in range(second_b+1,booked[i+1][0]) and second_m in range(second_b+1,booked[i+1][0]):\n",
    "                    booked.append((first_m,second_m))\n",
    "                    print('during available',booked)                    \n",
    "                    next     \n",
    "                    \n",
    "                # if booking crossing another one\n",
    "                if first_m in range(first_b,second_b+1) or second_m in range(first_b,second_b+1):\n",
    "                    first_b = min(first_m,first_b) \n",
    "                    second_b = max(second_m,second_b)\n",
    "                    booked[i] = (first_b,second_b)\n",
    "                    added = True\n",
    "                    continue\n",
    "                    \n",
    "            if i==len(booked_prev)-1:\n",
    "                \n",
    "                if first_m>second_b:\n",
    "                    booked.append((first_m,second_m))\n",
    "                    \n",
    "                if first_m in range(first_b,second_b+1) or second_m in range(first_b,second_b+1):\n",
    "                    first_b = min(first_m,first_b) \n",
    "                    second_b = max(second_m,second_b)\n",
    "                    booked[i] = (first_b,second_b)\n",
    "                    added = True\n",
    "                    continue                \n",
    "    \n",
    "    return booked\n"
   ]
  },
  {
   "cell_type": "markdown",
   "metadata": {},
   "source": [
    "Optimized"
   ]
  },
  {
   "cell_type": "code",
   "execution_count": 349,
   "metadata": {},
   "outputs": [],
   "source": [
    "def merging(meeting):\n",
    "    meetings = np.array(meeting)\n",
    "    meetings = meetings[meetings[:,0].argsort()]\n",
    "    \n",
    "    for i in range(len(meetings)-2):\n",
    "        if i < len(meetings)-1:\n",
    "            if meetings[i][1] >= meetings[i+1][0]:\n",
    "                meetings[i][1] = meetings[i+1][1]\n",
    "                meetings = np.delete(meetings,i+1,axis=0)\n",
    "    \n",
    "    # convert type\n",
    "    merged = []\n",
    "    for m in meetings:\n",
    "        merged.append((m[0],m[1]))\n",
    "        \n",
    "    return merged"
   ]
  },
  {
   "cell_type": "code",
   "execution_count": 350,
   "metadata": {},
   "outputs": [
    {
     "data": {
      "text/plain": [
       "[(0, 1), (3, 8), (9, 12)]"
      ]
     },
     "execution_count": 350,
     "metadata": {},
     "output_type": "execute_result"
    }
   ],
   "source": [
    "test = [(0, 1), (3, 5), (4, 8), (10, 12), (9, 10)]\n",
    "merging(test)"
   ]
  },
  {
   "cell_type": "markdown",
   "metadata": {},
   "source": [
    "### Reverse String in Place"
   ]
  },
  {
   "cell_type": "markdown",
   "metadata": {},
   "source": [
    "Write a function that takes a list of characters and reverses the letters in place."
   ]
  },
  {
   "cell_type": "code",
   "execution_count": 387,
   "metadata": {},
   "outputs": [],
   "source": [
    "def reverse(string):\n",
    "    mem = string[0]\n",
    "    s = []\n",
    "    s.extend(string)\n",
    "    for i in range(len(s)-1):\n",
    "        s[i]=s[i+1]\n",
    "    s[-1] = mem\n",
    "    return ''.join(s)"
   ]
  },
  {
   "cell_type": "code",
   "execution_count": 388,
   "metadata": {},
   "outputs": [
    {
     "data": {
      "text/plain": [
       "'bca'"
      ]
     },
     "execution_count": 388,
     "metadata": {},
     "output_type": "execute_result"
    }
   ],
   "source": [
    "reverse('abc')"
   ]
  },
  {
   "cell_type": "markdown",
   "metadata": {},
   "source": [
    "### Reverse Words"
   ]
  },
  {
   "cell_type": "markdown",
   "metadata": {},
   "source": [
    "Write a function reverse_words() that takes a message as a list of characters and reverses the order of the words in place."
   ]
  },
  {
   "cell_type": "code",
   "execution_count": 55,
   "metadata": {},
   "outputs": [],
   "source": [
    "def reverse_word(string):\n",
    "    reverse = []\n",
    "    word = []  \n",
    "    for i,s in enumerate(string):\n",
    "        print(s)\n",
    "        word.append(s)\n",
    "        if s == ' ':\n",
    "            reverse.insert(0,word)\n",
    "            word = []        \n",
    "        if i == len(string)-1:\n",
    "            word.append(' ')\n",
    "            reverse.insert(0,word)\n",
    "    return [l for w in reverse for l in w ][:-1]"
   ]
  },
  {
   "cell_type": "code",
   "execution_count": 56,
   "metadata": {},
   "outputs": [
    {
     "name": "stdout",
     "output_type": "stream",
     "text": [
      "T\n",
      "h\n",
      "i\n",
      "s\n",
      " \n",
      "i\n",
      "s\n",
      " \n",
      "a\n",
      " \n",
      "t\n",
      "e\n",
      "s\n",
      "t\n",
      ".\n"
     ]
    },
    {
     "data": {
      "text/plain": [
       "['t', 'e', 's', 't', '.', ' ', 'a', ' ', 'i', 's', ' ', 'T', 'h', 'i', 's']"
      ]
     },
     "execution_count": 56,
     "metadata": {},
     "output_type": "execute_result"
    }
   ],
   "source": [
    "reverse_word('This is a test.')"
   ]
  },
  {
   "cell_type": "markdown",
   "metadata": {},
   "source": [
    "### Merge Sorted Arrays"
   ]
  },
  {
   "cell_type": "markdown",
   "metadata": {},
   "source": [
    "We have our lists of orders sorted numerically already, in lists. Write a function to merge our lists of orders into one sorted list."
   ]
  },
  {
   "cell_type": "markdown",
   "metadata": {},
   "source": [
    "Method O(n1+n2) time and O(n1+n2) extra space"
   ]
  },
  {
   "cell_type": "code",
   "execution_count": 10,
   "metadata": {},
   "outputs": [],
   "source": [
    "def merge_sort(list1,list2):\n",
    "    listf = []\n",
    "    i,j = 0,0\n",
    "    while i<len(list1) and j<len(list2):\n",
    "        if list1[i] < list2[j]:\n",
    "            listf.append(list1[i])\n",
    "            i = i+1\n",
    "        elif list1[i] > list2[j]:\n",
    "            listf.append(list2[j])\n",
    "            j = j+1\n",
    "        elif list1[i] == list2[j]:\n",
    "            listf.append(list1[i])\n",
    "            i = i+1\n",
    "            j = j+1\n",
    "    return listf"
   ]
  },
  {
   "cell_type": "code",
   "execution_count": 11,
   "metadata": {},
   "outputs": [
    {
     "data": {
      "text/plain": [
       "[1, 3, 4, 5, 6, 8, 10, 11, 12, 14, 15]"
      ]
     },
     "execution_count": 11,
     "metadata": {},
     "output_type": "execute_result"
    }
   ],
   "source": [
    "my_list     = [3, 4, 6, 10, 11, 15]\n",
    "alices_list = [1, 5, 8, 12, 14, 19]\n",
    "\n",
    "merge_sort(my_list,alices_list)"
   ]
  },
  {
   "cell_type": "markdown",
   "metadata": {},
   "source": [
    "Method O(n1*n2) time and O(1) extra space"
   ]
  },
  {
   "cell_type": "code",
   "execution_count": 124,
   "metadata": {},
   "outputs": [],
   "source": [
    "def merge_sort(list1,list2):\n",
    "    i,j = 0,0\n",
    "    while i<len(list1):\n",
    "        change = False        \n",
    "        while not change and j<len(list2):\n",
    "            if list2[j] < list1[i]:\n",
    "                list1.insert(i,list2[j])\n",
    "                j += 1\n",
    "                change = True\n",
    "            else:\n",
    "                break\n",
    "        i += 1                \n",
    "    return list1"
   ]
  },
  {
   "cell_type": "code",
   "execution_count": 125,
   "metadata": {
    "scrolled": true
   },
   "outputs": [
    {
     "data": {
      "text/plain": [
       "[1, 3, 4, 5, 6, 8, 10, 11, 12, 14, 15]"
      ]
     },
     "execution_count": 125,
     "metadata": {},
     "output_type": "execute_result"
    }
   ],
   "source": [
    "my_list     = [3, 4, 6, 10, 11, 15]\n",
    "alices_list = [1, 5, 8, 12, 14, 19]\n",
    "\n",
    "merge_sort(my_list,alices_list)"
   ]
  },
  {
   "cell_type": "markdown",
   "metadata": {},
   "source": [
    "### Single Riffle Shuffle"
   ]
  },
  {
   "cell_type": "markdown",
   "metadata": {},
   "source": [
    "Write a function to tell us if a deck of cards is a single riffle of two other halves."
   ]
  },
  {
   "cell_type": "code",
   "execution_count": 128,
   "metadata": {},
   "outputs": [],
   "source": [
    "def single_riffle(deck):\n",
    "    shuffle = 0\n",
    "    for j in range(len(deck)-1):\n",
    "        if abs(deck[j]-deck[j+1]) > 1:\n",
    "            shuffle += 1\n",
    "    if shuffle == 1:\n",
    "        return True\n",
    "    else:\n",
    "        return False"
   ]
  }
 ],
 "metadata": {
  "kernelspec": {
   "display_name": "Python 3",
   "language": "python",
   "name": "python3"
  },
  "language_info": {
   "codemirror_mode": {
    "name": "ipython",
    "version": 3
   },
   "file_extension": ".py",
   "mimetype": "text/x-python",
   "name": "python",
   "nbconvert_exporter": "python",
   "pygments_lexer": "ipython3",
   "version": "3.6.8"
  }
 },
 "nbformat": 4,
 "nbformat_minor": 2
}
