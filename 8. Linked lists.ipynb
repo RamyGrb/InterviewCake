{
 "cells": [
  {
   "cell_type": "markdown",
   "metadata": {},
   "source": [
    "### Delete Node\n",
    "Write a function to delete a node from a linked list. "
   ]
  },
  {
   "cell_type": "code",
   "execution_count": 4,
   "metadata": {},
   "outputs": [],
   "source": [
    "  class LinkedListNode(object):\n",
    "\n",
    "    def __init__(self, value):\n",
    "        self.value = value\n",
    "        self.next  = None\n",
    "        \n",
    "    def delete_node(self,node):\n",
    "        a.next = node.next"
   ]
  },
  {
   "cell_type": "code",
   "execution_count": 5,
   "metadata": {},
   "outputs": [],
   "source": [
    "a = LinkedListNode('A')\n",
    "b = LinkedListNode('B')\n",
    "c = LinkedListNode('C')\n",
    "\n",
    "a.next = b\n",
    "b.next = c\n",
    "\n",
    "a.delete_node(b)"
   ]
  },
  {
   "cell_type": "markdown",
   "metadata": {},
   "source": [
    "### Does This Linked List Have A Cycle?\n",
    "Check to see if a linked list has a cycle."
   ]
  },
  {
   "cell_type": "code",
   "execution_count": 8,
   "metadata": {},
   "outputs": [],
   "source": [
    "  class LinkedListNode(object):\n",
    "\n",
    "    def __init__(self, value):\n",
    "        self.value = value\n",
    "        self.next  = None"
   ]
  },
  {
   "cell_type": "code",
   "execution_count": 16,
   "metadata": {},
   "outputs": [],
   "source": [
    "def contains_cycle(Node):\n",
    "    memory = []\n",
    "    while Node.next:\n",
    "        if Node.value in memory:\n",
    "            return False\n",
    "        memory.append(Node.value)\n",
    "        Node = Node.next\n",
    "    if Node.value in memory:\n",
    "            return False\n",
    "    memory.append(Node.value)\n",
    "    return True"
   ]
  },
  {
   "cell_type": "code",
   "execution_count": 83,
   "metadata": {},
   "outputs": [
    {
     "data": {
      "text/plain": [
       "[True, False]"
      ]
     },
     "execution_count": 83,
     "metadata": {},
     "output_type": "execute_result"
    }
   ],
   "source": [
    "a = LinkedListNode('A')\n",
    "b = LinkedListNode('B')\n",
    "c = LinkedListNode('C')\n",
    "d = LinkedListNode('C')\n",
    "\n",
    "a.next = b\n",
    "b.next = c\n",
    "d.next = a\n",
    "\n",
    "[contains_cycle(a),contains_cycle(d)]"
   ]
  },
  {
   "cell_type": "markdown",
   "metadata": {},
   "source": [
    "### Reverse A Linked List\n",
    "Reverse a linked list in place"
   ]
  },
  {
   "cell_type": "code",
   "execution_count": 84,
   "metadata": {},
   "outputs": [],
   "source": [
    "def reverse(Node):\n",
    "    ncurrent = Node\n",
    "    nprev = None\n",
    "    while ncurrent != None:\n",
    "        nnext = ncurrent.next\n",
    "        ncurrent.next = nprev\n",
    "        nprev = ncurrent\n",
    "        ncurrent = nnext\n",
    "    return nprev"
   ]
  },
  {
   "cell_type": "markdown",
   "metadata": {},
   "source": [
    "### Kth to Last Node in a Singly-Linked List\n",
    "Find the kth to last node in a singly-linked list. "
   ]
  },
  {
   "cell_type": "code",
   "execution_count": 1,
   "metadata": {},
   "outputs": [],
   "source": [
    "  class LinkedListNode:\n",
    "\n",
    "    def __init__(self, value):\n",
    "        self.value = value\n",
    "        self.next  = None"
   ]
  },
  {
   "cell_type": "code",
   "execution_count": 10,
   "metadata": {},
   "outputs": [],
   "source": [
    "def kth_to_last_node(k,node):\n",
    "    count = 1\n",
    "    head = node\n",
    "    while node.next:\n",
    "        node = node.next\n",
    "        count += 1\n",
    "    while count !=2:\n",
    "        head = head.next\n",
    "        count -= 1\n",
    "    return head.value"
   ]
  },
  {
   "cell_type": "code",
   "execution_count": 11,
   "metadata": {},
   "outputs": [
    {
     "data": {
      "text/plain": [
       "\"Devil's Food\""
      ]
     },
     "execution_count": 11,
     "metadata": {},
     "output_type": "execute_result"
    }
   ],
   "source": [
    "a = LinkedListNode(\"Angel Food\")\n",
    "b = LinkedListNode(\"Bundt\")\n",
    "c = LinkedListNode(\"Cheese\")\n",
    "d = LinkedListNode(\"Devil's Food\")\n",
    "e = LinkedListNode(\"Eccles\")\n",
    "\n",
    "a.next = b\n",
    "b.next = c\n",
    "c.next = d\n",
    "d.next = e\n",
    "\n",
    "# Returns the node with value \"Devil's Food\" (the 2nd to last node)\n",
    "kth_to_last_node(2, a)"
   ]
  },
  {
   "cell_type": "markdown",
   "metadata": {},
   "source": [
    "# Find a duplicate, Space Edition™ BEAST MODE"
   ]
  },
  {
   "cell_type": "markdown",
   "metadata": {},
   "source": [
    "See 5. Trees and graphs"
   ]
  },
  {
   "cell_type": "code",
   "execution_count": null,
   "metadata": {},
   "outputs": [],
   "source": []
  }
 ],
 "metadata": {
  "kernelspec": {
   "display_name": "Python 3",
   "language": "python",
   "name": "python3"
  },
  "language_info": {
   "codemirror_mode": {
    "name": "ipython",
    "version": 3
   },
   "file_extension": ".py",
   "mimetype": "text/x-python",
   "name": "python",
   "nbconvert_exporter": "python",
   "pygments_lexer": "ipython3",
   "version": "3.6.8"
  }
 },
 "nbformat": 4,
 "nbformat_minor": 2
}
