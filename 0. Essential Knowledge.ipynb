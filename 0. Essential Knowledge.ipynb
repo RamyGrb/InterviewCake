{
 "cells": [
  {
   "cell_type": "markdown",
   "metadata": {},
   "source": [
    "# Sorting"
   ]
  },
  {
   "cell_type": "markdown",
   "metadata": {},
   "source": [
    "### Merge Sort"
   ]
  },
  {
   "cell_type": "markdown",
   "metadata": {},
   "source": [
    "O(nlogn)"
   ]
  },
  {
   "cell_type": "code",
   "execution_count": 134,
   "metadata": {},
   "outputs": [],
   "source": [
    "# find middle of array\n",
    "# merge_sort first half\n",
    "# merge_sort second half\n",
    "# change original array with the sorted halves"
   ]
  },
  {
   "cell_type": "code",
   "execution_count": 41,
   "metadata": {},
   "outputs": [],
   "source": [
    "def merge_sort(array):\n",
    "    \n",
    "    # error\n",
    "    if type(array) is not list:\n",
    "        raise TypeError('Input is not an list')\n",
    "    \n",
    "    if len(array)>1:\n",
    "    \n",
    "        # find middle of array\n",
    "        mid = len(array)//2\n",
    "        # sort first half\n",
    "        array_left = array[:mid]\n",
    "        merge_sort(array_left)\n",
    "        # sort second half\n",
    "        array_right = array[mid:]\n",
    "        merge_sort(array_right)\n",
    "        # merge both arrays\n",
    "\n",
    "        i = j = k = 0\n",
    "\n",
    "        while i < len(array_left) and j < len(array_right):\n",
    "            if array_left[i]<array_right[j]:\n",
    "                array[k] = array_left[i]\n",
    "                i += 1\n",
    "            else:\n",
    "                array[k] = array_right[j]\n",
    "                j += 1\n",
    "            k += 1\n",
    "\n",
    "        while i < len(array_left):\n",
    "            array[k] = array_left[i]\n",
    "            i += 1\n",
    "            k += 1\n",
    "\n",
    "        while j < len(array_right):\n",
    "            array[k] = array_right[j]\n",
    "            j += 1\n",
    "            k += 1"
   ]
  },
  {
   "cell_type": "code",
   "execution_count": 42,
   "metadata": {},
   "outputs": [
    {
     "data": {
      "text/plain": [
       "[1, 1, 3, 6, 12, 23, 25, 34, 34, 53, 60, 75, 215, 234, 250, 754]"
      ]
     },
     "execution_count": 42,
     "metadata": {},
     "output_type": "execute_result"
    }
   ],
   "source": [
    "test = [1,12,60,1,3,34,250,25,215,6,754,34,234,23,53,75]\n",
    "\n",
    "merge_sort(test)\n",
    "\n",
    "test"
   ]
  },
  {
   "cell_type": "markdown",
   "metadata": {},
   "source": [
    "### Quick Sort"
   ]
  },
  {
   "cell_type": "markdown",
   "metadata": {},
   "source": [
    "O(nlogn) in average and O(n^2) at worst"
   ]
  },
  {
   "cell_type": "code",
   "execution_count": null,
   "metadata": {},
   "outputs": [],
   "source": [
    "# pick last element as pivot\n",
    "# walk list in both ways\n",
    "# permute when smaller than pivot not on left and bigger not on right until left/right walks rejoin\n",
    "# add pivot between the two sides by swapping it with the right walk index\n",
    "# quick_sort both sides"
   ]
  },
  {
   "cell_type": "code",
   "execution_count": 114,
   "metadata": {},
   "outputs": [],
   "source": [
    "def quick_sort(array):\n",
    "    # error\n",
    "    if type(array) is not list:\n",
    "        raise TypeError('Input is not an list')\n",
    "    \n",
    "    if len(array)>1:\n",
    "    \n",
    "        pivot = array[-1]\n",
    "        i = 0\n",
    "        j = len(array)-1\n",
    "\n",
    "        while j-i != 1:\n",
    "            while array[i] <= pivot and j-i != 1:\n",
    "                i += 1\n",
    "            while array[j] > pivot and j-i != 1:\n",
    "                j -= 1\n",
    "            array[i],array[j] = array[j],array[i]\n",
    "        array[-1],array[j] = array[j],array[-1]\n",
    "\n",
    "        L = quick_sort(array[:j])\n",
    "        R = quick_sort(array[j:])\n",
    "        \n",
    "        array = L + R\n",
    "        \n",
    "    return array"
   ]
  },
  {
   "cell_type": "code",
   "execution_count": 115,
   "metadata": {},
   "outputs": [
    {
     "data": {
      "text/plain": [
       "[1, 754, 12, 60, 1, 3, 34, 75, 25, 53, 6, 23, 34, 234, 250, 215]"
      ]
     },
     "execution_count": 115,
     "metadata": {},
     "output_type": "execute_result"
    }
   ],
   "source": [
    "test = [1,12,60,1,3,34,250,25,215,6,754,34,234,23,53,75]\n",
    "\n",
    "quick_sort(test)"
   ]
  },
  {
   "cell_type": "markdown",
   "metadata": {},
   "source": [
    "### Heap Sort"
   ]
  },
  {
   "cell_type": "code",
   "execution_count": null,
   "metadata": {},
   "outputs": [],
   "source": [
    "# build maxheap tree\n",
    "# swap smallest with the head (aka put largest at the tail)\n",
    "# repeat heap sort with [:-1]"
   ]
  },
  {
   "cell_type": "code",
   "execution_count": 80,
   "metadata": {},
   "outputs": [],
   "source": [
    "def heapify(arr, n, i):\n",
    "    largest = i\n",
    "    l = 2*i + 1\n",
    "    r = 2*i + 2\n",
    "        \n",
    "    # check if left child exist and greater\n",
    "    if l<n and arr[largest] < arr[l]:\n",
    "        largest = l\n",
    "    \n",
    "    # check if right child exist and greater\n",
    "    if r<n and arr[largest] < arr[r]:\n",
    "        largest = r\n",
    "    \n",
    "    # change root if needed and continue heapify\n",
    "    if largest != i:\n",
    "        arr[i],arr[largest] = arr[largest],arr[i]\n",
    "        heapify(arr, n, largest) #heapify again the node with the new swapped value\n",
    "        \n",
    "def heap_sort(arr):\n",
    "    n = len(arr)\n",
    "    \n",
    "    #build maxheap tree\n",
    "    for i in range(n,-1,-1):\n",
    "        heapify(arr, n, i)\n",
    "        \n",
    "    for i in range(n-1, 0, -1):\n",
    "        # swap\n",
    "        arr[i],arr[0] = arr[0], arr[i]\n",
    "        # repeat heap sort\n",
    "        heapify(arr, i, 0)"
   ]
  },
  {
   "cell_type": "code",
   "execution_count": 81,
   "metadata": {},
   "outputs": [
    {
     "data": {
      "text/plain": [
       "[1, 1, 3, 6, 12, 23, 25, 34, 34, 53, 60, 75, 215, 234, 250, 754]"
      ]
     },
     "execution_count": 81,
     "metadata": {},
     "output_type": "execute_result"
    }
   ],
   "source": [
    "test = [1,12,60,1,3,34,250,25,215,6,754,34,234,23,53,75]\n",
    "\n",
    "heap_sort(test)\n",
    "test"
   ]
  },
  {
   "cell_type": "markdown",
   "metadata": {},
   "source": [
    "### Binary Search\n",
    "\n",
    "O(1) best case O(logn) worst case, O(1) memory"
   ]
  },
  {
   "cell_type": "code",
   "execution_count": 137,
   "metadata": {},
   "outputs": [],
   "source": [
    "# need sorted arrays first\n",
    "# check if equal to the middle of the array\n",
    "# binary_search both halves"
   ]
  },
  {
   "cell_type": "code",
   "execution_count": 131,
   "metadata": {},
   "outputs": [],
   "source": [
    "def binary_search(array,x):\n",
    "    \n",
    "    if not isinstance(array,list):\n",
    "        raise TypeError('Not an array')\n",
    "    if not isinstance(x,int) and not isinstance(x,float):\n",
    "        raise TypeError('Not a number')\n",
    "    \n",
    "    if len(array)==1:\n",
    "        if array[0] == x:\n",
    "            return 0\n",
    "        else:\n",
    "            return -1\n",
    "    \n",
    "    if len(array)>=1:\n",
    "        mid_idx = len(array)//2\n",
    "        if array[mid_idx] == x:\n",
    "            return mid_idx\n",
    "        else:\n",
    "            R = binary_search(array[:mid_idx],x)\n",
    "            L = binary_search(array[mid_idx:],x)\n",
    "            if R != -1:\n",
    "                return R\n",
    "            if L != -1:\n",
    "                return mid_idx + L\n",
    "            else:\n",
    "                return -1"
   ]
  },
  {
   "cell_type": "code",
   "execution_count": 133,
   "metadata": {},
   "outputs": [
    {
     "data": {
      "text/plain": [
       "5"
      ]
     },
     "execution_count": 133,
     "metadata": {},
     "output_type": "execute_result"
    }
   ],
   "source": [
    "test = [1,12,60,1,3,34,250,25,215,6,754,34,234,23,53,75]\n",
    "\n",
    "binary_search(test,34)"
   ]
  },
  {
   "cell_type": "markdown",
   "metadata": {},
   "source": [
    "# Graph"
   ]
  },
  {
   "cell_type": "code",
   "execution_count": 1,
   "metadata": {},
   "outputs": [],
   "source": [
    "# Binary Tree\n",
    "\n",
    "class BinaryTreeNode(object):\n",
    "    def __init__(self, value,left=None, right=None):\n",
    "        self.value = value\n",
    "        self.left = left\n",
    "        self.right = right\n",
    "        \n",
    "Tree = BinaryTreeNode(1)\n",
    "Tree.left = BinaryTreeNode(2)\n",
    "Tree.right = BinaryTreeNode(5)\n",
    "Tree.left.left = BinaryTreeNode(3)\n",
    "Tree.left.right = BinaryTreeNode(4)\n",
    "Tree.right.left = BinaryTreeNode(6)\n",
    "Tree.right.right = BinaryTreeNode(7)\n",
    "\n",
    "# Graph\n",
    "\n",
    "graph = {\n",
    "    0: {1:4,7:8},\n",
    "    1: {0:4,2:8,7:11},\n",
    "    2: {1:8,8:2,3:7},\n",
    "    3: {2:7,4:9,5:14},\n",
    "    4: {3:9,5:10},\n",
    "    5: {2:4,3:14,4:10,6:2},\n",
    "    6: {5:2,7:1,8:6},\n",
    "    7: {0:8,1:11,6:1,8:7},\n",
    "    8: {2:2,6:6,7:7} \n",
    "}\n",
    "\n",
    "graph = {\n",
    "    0: [1,7],\n",
    "    1: [0,2,7],\n",
    "    2: [1,8,3],\n",
    "    3: [2,4,5],\n",
    "    4: [3,5],\n",
    "    5: [2,3,4,6],\n",
    "    6: [5,7,8],\n",
    "    7: [0,1,6,8],\n",
    "    8: [2,6,7]\n",
    "}"
   ]
  },
  {
   "cell_type": "markdown",
   "metadata": {},
   "source": [
    "### Breadth First"
   ]
  },
  {
   "cell_type": "code",
   "execution_count": 2,
   "metadata": {},
   "outputs": [],
   "source": [
    "# Iterative traversal\n",
    "def breadth_first_iterative(root):\n",
    "    to_visit = [root]\n",
    "    while to_visit:\n",
    "        current = to_visit.pop(0)\n",
    "        # code here\n",
    "        if current.left:\n",
    "            to_visit.append(current.left)\n",
    "        if current.right:\n",
    "            to_visit.append(current.right)\n",
    "            \n",
    "# iterative search\n",
    "def breadth_first_iterative(root,x):\n",
    "    to_visit = [root]\n",
    "    while to_visit:\n",
    "        current = to_visit.pop(0)\n",
    "        if current.value == x:\n",
    "            return True\n",
    "        if current.left:\n",
    "            to_visit.append(current.left)\n",
    "        if current.right:\n",
    "            to_visit.append(current.right)\n",
    "    return False"
   ]
  },
  {
   "cell_type": "markdown",
   "metadata": {},
   "source": [
    "### Depth First"
   ]
  },
  {
   "cell_type": "code",
   "execution_count": 3,
   "metadata": {},
   "outputs": [],
   "source": [
    "# Iterative traversal\n",
    "def depth_first_iterative(root):\n",
    "    to_visit = [root]\n",
    "    while to_visit:\n",
    "        current = to_visit.pop()\n",
    "        # code here\n",
    "        if current.right:\n",
    "            to_visit.append(current.right)\n",
    "        if current.left:\n",
    "            to_visit.append(current.left)\n",
    "\n",
    "# Recursive traversal\n",
    "def depth_first_recursive(root):\n",
    "    current = root\n",
    "    print(current.value)\n",
    "    if current.left:\n",
    "        depth_first_recursive(current.left)\n",
    "    if current.right:\n",
    "        depth_first_recursive(current.right)\n",
    "        \n",
    "# Iterative search\n",
    "def depth_first_iterative(root,x):\n",
    "    to_visit = [root]\n",
    "    while to_visit:\n",
    "        current = to_visit.pop()\n",
    "        if current.value == x:\n",
    "            return True\n",
    "        if current.right:\n",
    "            to_visit.append(current.right)\n",
    "        if current.left:\n",
    "            to_visit.append(current.left)\n",
    "    return False\n",
    "\n",
    "# Recursive search\n",
    "def depth_first_recursive(root,x):\n",
    "    if not root:\n",
    "        return False\n",
    "    if root.value == x:\n",
    "        return True\n",
    "    if root.left:\n",
    "        if depth_first_recursive(root.left,x):\n",
    "            return True\n",
    "    if root.right:\n",
    "        if depth_first_recursive(root.right,x):\n",
    "            return True\n",
    "    return False"
   ]
  },
  {
   "cell_type": "markdown",
   "metadata": {},
   "source": [
    "### Dijkstra (Shortest path from source to all vertices)"
   ]
  },
  {
   "cell_type": "code",
   "execution_count": 4,
   "metadata": {},
   "outputs": [],
   "source": [
    "def dijkstra(graph,node):\n",
    "    to_look = [node]\n",
    "    min_dist = {node:float('infinity') for node in graph}\n",
    "    min_dist[node] = 0\n",
    "    while to_look:\n",
    "        current = to_look.pop()\n",
    "        for neighbor in list(graph[current]):\n",
    "            if min_dist[current] + graph[current][neighbor] < min_dist[neighbor]:\n",
    "                min_dist[neighbor] = min_dist[current] + graph[current][neighbor]\n",
    "                to_look.append(neighbor)\n",
    "    return min_dist\n"
   ]
  },
  {
   "cell_type": "markdown",
   "metadata": {},
   "source": [
    "### Detect cycle in a graph"
   ]
  },
  {
   "cell_type": "code",
   "execution_count": 5,
   "metadata": {},
   "outputs": [],
   "source": [
    "def detect_cycle(graph):\n",
    "    to_look = [0]\n",
    "    visited = {0}\n",
    "    while to_look:\n",
    "        current = to_look.pop()\n",
    "        visited.add(current)\n",
    "        for neighbor in graph[current]:\n",
    "            if neighbor in visited:\n",
    "                return True\n",
    "            to_look.append(neighbor)\n",
    "    return False"
   ]
  }
 ],
 "metadata": {
  "kernelspec": {
   "display_name": "Python 3",
   "language": "python",
   "name": "python3"
  },
  "language_info": {
   "codemirror_mode": {
    "name": "ipython",
    "version": 3
   },
   "file_extension": ".py",
   "mimetype": "text/x-python",
   "name": "python",
   "nbconvert_exporter": "python",
   "pygments_lexer": "ipython3",
   "version": "3.6.8"
  }
 },
 "nbformat": 4,
 "nbformat_minor": 2
}
