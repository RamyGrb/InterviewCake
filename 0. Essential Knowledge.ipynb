{
 "cells": [
  {
   "cell_type": "markdown",
   "metadata": {},
   "source": [
    "### Merge Sort"
   ]
  },
  {
   "cell_type": "markdown",
   "metadata": {},
   "source": [
    "O(nlogn)"
   ]
  },
  {
   "cell_type": "code",
   "execution_count": 134,
   "metadata": {},
   "outputs": [],
   "source": [
    "# find middle of array\n",
    "# merge_sort first half\n",
    "# merge_sort second half\n",
    "# change original array with the sorted halves"
   ]
  },
  {
   "cell_type": "code",
   "execution_count": 41,
   "metadata": {},
   "outputs": [],
   "source": [
    "def merge_sort(array):\n",
    "    \n",
    "    # error\n",
    "    if type(array) is not list:\n",
    "        raise TypeError('Input is not an list')\n",
    "    \n",
    "    if len(array)>1:\n",
    "    \n",
    "        # find middle of array\n",
    "        mid = len(array)//2\n",
    "        # sort first half\n",
    "        array_left = array[:mid]\n",
    "        merge_sort(array_left)\n",
    "        # sort second half\n",
    "        array_right = array[mid:]\n",
    "        merge_sort(array_right)\n",
    "        # merge both arrays\n",
    "\n",
    "        i = j = k = 0\n",
    "\n",
    "        while i < len(array_left) and j < len(array_right):\n",
    "            if array_left[i]<array_right[j]:\n",
    "                array[k] = array_left[i]\n",
    "                i += 1\n",
    "            else:\n",
    "                array[k] = array_right[j]\n",
    "                j += 1\n",
    "            k += 1\n",
    "\n",
    "        while i < len(array_left):\n",
    "            array[k] = array_left[i]\n",
    "            i += 1\n",
    "            k += 1\n",
    "\n",
    "        while j < len(array_right):\n",
    "            array[k] = array_right[j]\n",
    "            j += 1\n",
    "            k += 1"
   ]
  },
  {
   "cell_type": "code",
   "execution_count": 42,
   "metadata": {},
   "outputs": [
    {
     "data": {
      "text/plain": [
       "[1, 1, 3, 6, 12, 23, 25, 34, 34, 53, 60, 75, 215, 234, 250, 754]"
      ]
     },
     "execution_count": 42,
     "metadata": {},
     "output_type": "execute_result"
    }
   ],
   "source": [
    "test = [1,12,60,1,3,34,250,25,215,6,754,34,234,23,53,75]\n",
    "\n",
    "merge_sort(test)\n",
    "\n",
    "test"
   ]
  },
  {
   "cell_type": "markdown",
   "metadata": {},
   "source": [
    "### Quick Sort"
   ]
  },
  {
   "cell_type": "markdown",
   "metadata": {},
   "source": [
    "O(nlogn) in average and O(n^2) at worst"
   ]
  },
  {
   "cell_type": "code",
   "execution_count": null,
   "metadata": {},
   "outputs": [],
   "source": [
    "# pick last element as pivot\n",
    "# walk list in both ways\n",
    "# permute when smaller than pivot not on left and bigger not on right until left/right walks rejoin\n",
    "# add pivot between the two sides by swapping it with the right walk index\n",
    "# quick_sort both sides"
   ]
  },
  {
   "cell_type": "code",
   "execution_count": 114,
   "metadata": {},
   "outputs": [],
   "source": [
    "def quick_sort(array):\n",
    "    # error\n",
    "    if type(array) is not list:\n",
    "        raise TypeError('Input is not an list')\n",
    "    \n",
    "    if len(array)>1:\n",
    "    \n",
    "        pivot = array[-1]\n",
    "        i = 0\n",
    "        j = len(array)-1\n",
    "\n",
    "        while j-i != 1:\n",
    "            while array[i] <= pivot and j-i != 1:\n",
    "                i += 1\n",
    "            while array[j] > pivot and j-i != 1:\n",
    "                j -= 1\n",
    "            array[i],array[j] = array[j],array[i]\n",
    "        array[-1],array[j] = array[j],array[-1]\n",
    "\n",
    "        L = quick_sort(array[:j])\n",
    "        R = quick_sort(array[j:])\n",
    "        \n",
    "        array = L + R\n",
    "        \n",
    "    return array"
   ]
  },
  {
   "cell_type": "code",
   "execution_count": 115,
   "metadata": {},
   "outputs": [
    {
     "data": {
      "text/plain": [
       "[1, 754, 12, 60, 1, 3, 34, 75, 25, 53, 6, 23, 34, 234, 250, 215]"
      ]
     },
     "execution_count": 115,
     "metadata": {},
     "output_type": "execute_result"
    }
   ],
   "source": [
    "test = [1,12,60,1,3,34,250,25,215,6,754,34,234,23,53,75]\n",
    "\n",
    "quick_sort(test)"
   ]
  },
  {
   "cell_type": "markdown",
   "metadata": {},
   "source": [
    "### Heap Sort"
   ]
  },
  {
   "cell_type": "code",
   "execution_count": null,
   "metadata": {},
   "outputs": [],
   "source": [
    "# build maxheap tree\n",
    "# swap smallest with the head (aka put largest at the tail)\n",
    "# repeat heap sort with [:-1]"
   ]
  },
  {
   "cell_type": "code",
   "execution_count": 80,
   "metadata": {},
   "outputs": [],
   "source": [
    "def heapify(arr, n, i):\n",
    "    largest = i\n",
    "    l = 2*i + 1\n",
    "    r = 2*i + 2\n",
    "        \n",
    "    # check if left child exist and greater\n",
    "    if l<n and arr[largest] < arr[l]:\n",
    "        largest = l\n",
    "    \n",
    "    # check if right child exist and greater\n",
    "    if r<n and arr[largest] < arr[r]:\n",
    "        largest = r\n",
    "    \n",
    "    # change root if needed and continue heapify\n",
    "    if largest != i:\n",
    "        arr[i],arr[largest] = arr[largest],arr[i]\n",
    "        heapify(arr, n, largest) #heapify again the node with the new swapped value\n",
    "        \n",
    "def heap_sort(arr):\n",
    "    n = len(arr)\n",
    "    \n",
    "    #build maxheap tree\n",
    "    for i in range(n,-1,-1):\n",
    "        heapify(arr, n, i)\n",
    "        \n",
    "    for i in range(n-1, 0, -1):\n",
    "        # swap\n",
    "        arr[i],arr[0] = arr[0], arr[i]\n",
    "        # repeat heap sort\n",
    "        heapify(arr, i, 0)"
   ]
  },
  {
   "cell_type": "code",
   "execution_count": 81,
   "metadata": {},
   "outputs": [
    {
     "data": {
      "text/plain": [
       "[1, 1, 3, 6, 12, 23, 25, 34, 34, 53, 60, 75, 215, 234, 250, 754]"
      ]
     },
     "execution_count": 81,
     "metadata": {},
     "output_type": "execute_result"
    }
   ],
   "source": [
    "test = [1,12,60,1,3,34,250,25,215,6,754,34,234,23,53,75]\n",
    "\n",
    "heap_sort(test)\n",
    "test"
   ]
  },
  {
   "cell_type": "markdown",
   "metadata": {},
   "source": [
    "### Binary Search\n",
    "\n",
    "O(1) best case O(logn) worst case, O(1) memory"
   ]
  },
  {
   "cell_type": "code",
   "execution_count": 137,
   "metadata": {},
   "outputs": [],
   "source": [
    "# need sorted arrays first\n",
    "# check if equal to the middle of the array\n",
    "# binary_search both halves"
   ]
  },
  {
   "cell_type": "code",
   "execution_count": 131,
   "metadata": {},
   "outputs": [],
   "source": [
    "def binary_search(array,x):\n",
    "    \n",
    "    if not isinstance(array,list):\n",
    "        raise TypeError('Not an array')\n",
    "    if not isinstance(x,int) and not isinstance(x,float):\n",
    "        raise TypeError('Not a number')\n",
    "    \n",
    "    if len(array)==1:\n",
    "        if array[0] == x:\n",
    "            return 0\n",
    "        else:\n",
    "            return -1\n",
    "    \n",
    "    if len(array)>=1:\n",
    "        mid_idx = len(array)//2\n",
    "        if array[mid_idx] == x:\n",
    "            return mid_idx\n",
    "        else:\n",
    "            R = binary_search(array[:mid_idx],x)\n",
    "            L = binary_search(array[mid_idx:],x)\n",
    "            if R != -1:\n",
    "                return R\n",
    "            if L != -1:\n",
    "                return mid_idx + L\n",
    "            else:\n",
    "                return -1"
   ]
  },
  {
   "cell_type": "code",
   "execution_count": 133,
   "metadata": {},
   "outputs": [
    {
     "data": {
      "text/plain": [
       "5"
      ]
     },
     "execution_count": 133,
     "metadata": {},
     "output_type": "execute_result"
    }
   ],
   "source": [
    "test = [1,12,60,1,3,34,250,25,215,6,754,34,234,23,53,75]\n",
    "\n",
    "binary_search(test,34)"
   ]
  }
 ],
 "metadata": {
  "kernelspec": {
   "display_name": "Python 3",
   "language": "python",
   "name": "python3"
  },
  "language_info": {
   "codemirror_mode": {
    "name": "ipython",
    "version": 3
   },
   "file_extension": ".py",
   "mimetype": "text/x-python",
   "name": "python",
   "nbconvert_exporter": "python",
   "pygments_lexer": "ipython3",
   "version": "3.6.8"
  }
 },
 "nbformat": 4,
 "nbformat_minor": 2
}
