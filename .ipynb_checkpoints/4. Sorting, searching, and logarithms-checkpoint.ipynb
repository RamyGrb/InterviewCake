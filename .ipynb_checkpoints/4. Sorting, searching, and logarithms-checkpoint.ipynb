{
 "cells": [
  {
   "cell_type": "markdown",
   "metadata": {},
   "source": [
    "### Binary Search Algorithm"
   ]
  },
  {
   "cell_type": "markdown",
   "metadata": {},
   "source": [
    "Find an item in a sorted list in O(log(n)) time."
   ]
  },
  {
   "cell_type": "code",
   "execution_count": 71,
   "metadata": {},
   "outputs": [],
   "source": [
    "def binary_search(target, nums):\n",
    "    if len(nums) == 1:\n",
    "        if target == nums[0]:\n",
    "            return 1\n",
    "        else:\n",
    "            raise IndexError('Not in the array')\n",
    "            break\n",
    "    else:\n",
    "        i = len(nums)//2\n",
    "        if target == nums[i]:\n",
    "            return i\n",
    "        elif target < nums[i]:\n",
    "            return binary_search(target, nums[:i])\n",
    "        elif target > nums[i]:\n",
    "            return i + binary_search(target, nums[i+1:])"
   ]
  },
  {
   "cell_type": "code",
   "execution_count": 80,
   "metadata": {
    "scrolled": true
   },
   "outputs": [
    {
     "data": {
      "text/plain": [
       "5"
      ]
     },
     "execution_count": 80,
     "metadata": {},
     "output_type": "execute_result"
    }
   ],
   "source": [
    "nums = [1,4,6,7,14,17,36,47]\n",
    "target = 17\n",
    "\n",
    "binary_search(target, nums)"
   ]
  },
  {
   "cell_type": "markdown",
   "metadata": {},
   "source": [
    "### Merge Sort Algorithm\n",
    "Sort an array in O(nlogn) time and O(1) memory"
   ]
  },
  {
   "cell_type": "code",
   "execution_count": 15,
   "metadata": {},
   "outputs": [],
   "source": [
    "def merge_sort(list1):\n",
    "    if len(list1)>1:\n",
    "        mid = len(list1)//2\n",
    "        L = list1[:mid]\n",
    "        R = list1[mid:]\n",
    "        \n",
    "        merge_sort(L)\n",
    "        merge_sort(R)\n",
    "        \n",
    "        i = j = k = 0\n",
    "        \n",
    "        while i < len(L) and j < len(R):\n",
    "            if L[i] < R[j]:\n",
    "                list1[k] = L[i]\n",
    "                i += 1\n",
    "            else:\n",
    "                list1[k] = R[j]\n",
    "                j += 1\n",
    "            k += 1\n",
    "        \n",
    "        while i < len(L):\n",
    "            list1[k] = L[i]\n",
    "            i += 1\n",
    "            k += 1\n",
    "            \n",
    "        while j < len(R):\n",
    "            list1[k] = R[j]\n",
    "            j += 1\n",
    "            k += 1\n",
    "    \n",
    "    return list1"
   ]
  },
  {
   "cell_type": "code",
   "execution_count": 16,
   "metadata": {},
   "outputs": [
    {
     "data": {
      "text/plain": [
       "[5, 6, 7, 11, 12, 13]"
      ]
     },
     "execution_count": 16,
     "metadata": {},
     "output_type": "execute_result"
    }
   ],
   "source": [
    "test = [12, 11, 13, 5, 6, 7]\n",
    "\n",
    "merge_sort(test)"
   ]
  },
  {
   "cell_type": "markdown",
   "metadata": {},
   "source": [
    "### Find Rotation Point\n",
    "Write a function for finding the index of the \"rotation point,\" which is where I started working from the beginning of the dictionary."
   ]
  },
  {
   "cell_type": "markdown",
   "metadata": {},
   "source": [
    "O(log(n)) time, O(1) memory (excluding the alphabet dic)"
   ]
  },
  {
   "cell_type": "code",
   "execution_count": 96,
   "metadata": {},
   "outputs": [],
   "source": [
    "def find_rotation_point(words):\n",
    "    alphabet = {'a':'1','b':'2','c':'3','d':'4','e':'5','f':'6','g':'7','h':'8','i':'9','j':'10','k':'11','l':'12','m':'13','n':'14','o':'15','p':'16','q':'17','r':'18','s':'19','t':'20','u':'21','v':'22','w':'23','x':'24','y':'25','z':'26'}\n",
    "    \n",
    "    start = alphabet[words[0][0]]\n",
    "    cursor = len(words)//2\n",
    "    \n",
    "    if len(words) == 2:\n",
    "        return 2\n",
    "    if alphabet[words[cursor][0]] < start:\n",
    "        return find_rotation_point(words[:cursor])\n",
    "    if alphabet[words[cursor][0]] > start:\n",
    "        return cursor + find_rotation_point(words[cursor:])"
   ]
  },
  {
   "cell_type": "code",
   "execution_count": 97,
   "metadata": {},
   "outputs": [
    {
     "data": {
      "text/plain": [
       "'asymptote'"
      ]
     },
     "execution_count": 97,
     "metadata": {},
     "output_type": "execute_result"
    }
   ],
   "source": [
    "  words = [\n",
    "    'ptolemaic',\n",
    "    'retrograde',\n",
    "    'supplant',\n",
    "    'undulate',\n",
    "    'xenoepist',\n",
    "    'asymptote',  # <-- rotates here!\n",
    "    'babka',\n",
    "    'banoffee',\n",
    "    'engender',\n",
    "    'karpatka',\n",
    "    'othellolagkage',\n",
    "]\n",
    "    \n",
    "words[find_rotation_point(words)]"
   ]
  },
  {
   "cell_type": "markdown",
   "metadata": {},
   "source": [
    "### Find repeat, space edition\n",
    "Figure out which number is repeated, optimize for space"
   ]
  },
  {
   "cell_type": "markdown",
   "metadata": {},
   "source": [
    "O(nlogn) time and O(1) memory"
   ]
  },
  {
   "cell_type": "code",
   "execution_count": 47,
   "metadata": {},
   "outputs": [],
   "source": [
    "def merge_sort(array):\n",
    "    \n",
    "    if len(array) > 1:\n",
    "        \n",
    "        mid = len(array)//2\n",
    "        R = array[:mid]\n",
    "        L = array[mid:]\n",
    "        merge_sort(R)\n",
    "        merge_sort(L)\n",
    "\n",
    "        i = j = k = 0\n",
    "\n",
    "        while i < len(L) and j < len(R):\n",
    "            if L[i] < R[j]:\n",
    "                array[k] = L[i]\n",
    "                i += 1\n",
    "            else:\n",
    "                array[k] = R[j]\n",
    "                j += 1\n",
    "            k += 1\n",
    "\n",
    "        while i < len(L):\n",
    "            array[k] = L[i]\n",
    "            i += 1\n",
    "            k += 1\n",
    "\n",
    "        while j < len(R):\n",
    "            array[k] = R[j]\n",
    "            j += 1\n",
    "            k += 1\n",
    "\n",
    "def find_duplicate(array):\n",
    "    \n",
    "    merge_sort(array)\n",
    "    \n",
    "    for i in range(len(array)-1):\n",
    "        if array[i] == array[i+1]:\n",
    "            return array[i]\n",
    "    return None"
   ]
  },
  {
   "cell_type": "code",
   "execution_count": 50,
   "metadata": {},
   "outputs": [
    {
     "data": {
      "text/plain": [
       "6"
      ]
     },
     "execution_count": 50,
     "metadata": {},
     "output_type": "execute_result"
    }
   ],
   "source": [
    "test = [1,40,6,8,6,23,26,75,12,12,15,26]\n",
    "\n",
    "find_duplicate(test)"
   ]
  },
  {
   "cell_type": "markdown",
   "metadata": {},
   "source": [
    "### Top Scores"
   ]
  },
  {
   "cell_type": "markdown",
   "metadata": {},
   "source": [
    "Sort numbers in an array where each number is below a certain maximum."
   ]
  },
  {
   "cell_type": "markdown",
   "metadata": {},
   "source": [
    "O(n) time and memory"
   ]
  },
  {
   "cell_type": "code",
   "execution_count": 52,
   "metadata": {},
   "outputs": [],
   "source": [
    "def sort_scores(unsorted_scores, highest_possible_score):\n",
    "    table = {}\n",
    "    scores = []\n",
    "    \n",
    "    for i in unsorted_scores:\n",
    "        if i in table:\n",
    "            table[i] += 1\n",
    "        else:\n",
    "            table[i] = 1\n",
    "    \n",
    "    for i in range(highest_possible_score):\n",
    "        if i in table:\n",
    "            while table[i]>0:\n",
    "                scores.append(i)\n",
    "                table[i] -= 1\n",
    "                \n",
    "    return scores"
   ]
  },
  {
   "cell_type": "code",
   "execution_count": 54,
   "metadata": {},
   "outputs": [
    {
     "data": {
      "text/plain": [
       "[37, 41, 41, 53, 65, 89, 91]"
      ]
     },
     "execution_count": 54,
     "metadata": {},
     "output_type": "execute_result"
    }
   ],
   "source": [
    "unsorted_scores = [37, 89, 41, 41, 65, 91, 53]\n",
    "HIGHEST_POSSIBLE_SCORE = 100\n",
    "\n",
    "sort_scores(unsorted_scores, HIGHEST_POSSIBLE_SCORE)"
   ]
  },
  {
   "cell_type": "markdown",
   "metadata": {},
   "source": [
    "### Merging Meeting Times"
   ]
  },
  {
   "cell_type": "markdown",
   "metadata": {},
   "source": [
    "Write a function merge_ranges() that takes a list of multiple meeting time ranges and returns a list of condensed ranges."
   ]
  },
  {
   "cell_type": "markdown",
   "metadata": {},
   "source": [
    "O(nlogn) time and O(n) memory"
   ]
  },
  {
   "cell_type": "code",
   "execution_count": 104,
   "metadata": {},
   "outputs": [],
   "source": [
    "def merge_sort_index(array,index=None):\n",
    "    \n",
    "    if index == None:\n",
    "        index = [i for i in range(len(array))]\n",
    "        \n",
    "    if len(array) > 1:\n",
    "        mid = len(array)//2\n",
    "        L, L_idx = array[:mid], index[:mid]\n",
    "        R, R_idx = array[mid:], index[mid:]\n",
    "                \n",
    "        L, L_idx = merge_sort_index(L,L_idx)\n",
    "        R, R_idx = merge_sort_index(R,R_idx)\n",
    "\n",
    "        i = j = k = 0\n",
    "        \n",
    "        while i < len(L) and j < len(R):\n",
    "            if L[i] < R[j]:\n",
    "                array[k] = L[i]\n",
    "                index[k] = L_idx[i]\n",
    "                i += 1            \n",
    "            else:\n",
    "                array[k] = R[j]\n",
    "                index[k] = R_idx[j] \n",
    "                j += 1            \n",
    "            k += 1\n",
    "\n",
    "        while i < len(L):\n",
    "            array[k] = L[i]\n",
    "            index[k] = L_idx[i]        \n",
    "            i += 1\n",
    "            k += 1\n",
    "\n",
    "        while j < len(R):\n",
    "            array[k] = R[j]\n",
    "            index[k] = R_idx[j] \n",
    "            j += 1\n",
    "            k += 1\n",
    "\n",
    "    return array, index\n",
    "\n",
    "def merge_meetings(meetings):\n",
    "    \n",
    "    start = [m[0] for m in meetings] \n",
    "    start_sorted, index = merge_sort_index(start)\n",
    "    condensed = []\n",
    "    \n",
    "    condensed.append((meetings[index[0]][0],meetings[index[0]][1]))\n",
    "    k = 0\n",
    "    \n",
    "    for i in range(1,len(start_sorted)-1):\n",
    "        if meetings[index[i]][0] <= meetings[index[k]][1]:\n",
    "            condensed[k] = (meetings[index[k]][0],meetings[index[i]][1])\n",
    "            k += 1\n",
    "        else:\n",
    "            condensed.append((meetings[index[i]][0],meetings[index[i]][1]))\n",
    "            k += 1\n",
    "    \n",
    "    return condensed"
   ]
  },
  {
   "cell_type": "code",
   "execution_count": 105,
   "metadata": {
    "scrolled": true
   },
   "outputs": [
    {
     "data": {
      "text/plain": [
       "[(0, 1), (3, 8), (9, 10)]"
      ]
     },
     "execution_count": 105,
     "metadata": {},
     "output_type": "execute_result"
    }
   ],
   "source": [
    "meetings = [(0, 1), (3, 5), (4, 8), (10, 12), (9, 10)]\n",
    "\n",
    "merge_meetings(meetings)"
   ]
  }
 ],
 "metadata": {
  "kernelspec": {
   "display_name": "Python 3",
   "language": "python",
   "name": "python3"
  },
  "language_info": {
   "codemirror_mode": {
    "name": "ipython",
    "version": 3
   },
   "file_extension": ".py",
   "mimetype": "text/x-python",
   "name": "python",
   "nbconvert_exporter": "python",
   "pygments_lexer": "ipython3",
   "version": "3.6.8"
  }
 },
 "nbformat": 4,
 "nbformat_minor": 2
}
