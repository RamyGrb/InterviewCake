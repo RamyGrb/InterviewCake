{
 "cells": [
  {
   "cell_type": "markdown",
   "metadata": {},
   "source": [
    "### Which Appears Twice\n",
    "Find the repeat number in an array of numbers."
   ]
  },
  {
   "cell_type": "code",
   "execution_count": 12,
   "metadata": {},
   "outputs": [],
   "source": [
    "def find_repeat(liste):\n",
    "    return (sum(liste)-(len(liste)*(len(liste)-1))/2)"
   ]
  },
  {
   "cell_type": "code",
   "execution_count": 13,
   "metadata": {},
   "outputs": [
    {
     "data": {
      "text/plain": [
       "8.0"
      ]
     },
     "execution_count": 13,
     "metadata": {},
     "output_type": "execute_result"
    }
   ],
   "source": [
    "liste = [1,2,3,4,5,6,7,8,8,9,10]\n",
    "\n",
    "find_repeat(liste)"
   ]
  },
  {
   "cell_type": "markdown",
   "metadata": {},
   "source": [
    "### Find in Ordered Set\n",
    "Suppose we had a list of n integers sorted in ascending order. How quickly could we check if a given integer is in the list?"
   ]
  },
  {
   "cell_type": "code",
   "execution_count": 14,
   "metadata": {},
   "outputs": [],
   "source": [
    "def find_integer(liste, number):\n",
    "    if number >= liste[0] and number <= liste[-1]:\n",
    "        return True\n",
    "    return False"
   ]
  },
  {
   "cell_type": "code",
   "execution_count": 16,
   "metadata": {},
   "outputs": [
    {
     "data": {
      "text/plain": [
       "True"
      ]
     },
     "execution_count": 16,
     "metadata": {},
     "output_type": "execute_result"
    }
   ],
   "source": [
    "liste = [1,2,3,4,5,6,7,8,9,10]\n",
    "\n",
    "find_integer(liste,4)"
   ]
  },
  {
   "cell_type": "markdown",
   "metadata": {},
   "source": [
    "### In-Place Shuffle\n",
    "Do an in-place shuffle on an array of numbers."
   ]
  },
  {
   "cell_type": "markdown",
   "metadata": {},
   "source": [
    "See 3. Greedy algorithms"
   ]
  },
  {
   "cell_type": "markdown",
   "metadata": {},
   "source": [
    "### Simulate 5-sided die\n",
    "Given a 7-sided die, make a 5-sided die."
   ]
  },
  {
   "cell_type": "code",
   "execution_count": 30,
   "metadata": {},
   "outputs": [],
   "source": [
    "from random import randint\n",
    "\n",
    "class dice():\n",
    "    def __init__(self,k):\n",
    "        self.k=k\n",
    "    def roll(self):\n",
    "        return randint(1,self.k)\n",
    "\n",
    "dice7 = dice(7)\n",
    "dice5 = dice(5)\n",
    "    \n",
    "def dice7to5():\n",
    "    return sum([dice7.roll() for _ in range(5)])%5+1"
   ]
  },
  {
   "cell_type": "markdown",
   "metadata": {},
   "source": [
    "## Simulate 7-sided die\n",
    "Given a 5-sided die, make a 7-sided die."
   ]
  },
  {
   "cell_type": "code",
   "execution_count": 31,
   "metadata": {},
   "outputs": [],
   "source": [
    "from random import randint\n",
    "\n",
    "class dice():\n",
    "    def __init__(self,k):\n",
    "        self.k=k\n",
    "    def roll(self):\n",
    "        return randint(1,self.k)\n",
    "\n",
    "dice7 = dice(7)\n",
    "dice5 = dice(5)\n",
    "    \n",
    "def dice5to7():\n",
    "    return sum([dice5.roll() for _ in range(7)])%7+1"
   ]
  },
  {
   "cell_type": "markdown",
   "metadata": {},
   "source": [
    "### Two Egg Problem\n",
    "A building has 100 floors. Figure out the highest floor an egg can be dropped from without breaking."
   ]
  },
  {
   "cell_type": "code",
   "execution_count": 32,
   "metadata": {},
   "outputs": [],
   "source": [
    "# If we drop the first egg every 10 floor the worst case increase of 1 at every 10 floor.\n",
    "# We want an equal worst case meaning n+ (n-1) + ... + 1 = 100\n",
    "# n*(n+1)/2 = 100 <=> n = 13.7\n",
    "# We drop the first egg from the 14th floor then 13, etc...\n"
   ]
  }
 ],
 "metadata": {
  "kernelspec": {
   "display_name": "Python 3",
   "language": "python",
   "name": "python3"
  },
  "language_info": {
   "codemirror_mode": {
    "name": "ipython",
    "version": 3
   },
   "file_extension": ".py",
   "mimetype": "text/x-python",
   "name": "python",
   "nbconvert_exporter": "python",
   "pygments_lexer": "ipython3",
   "version": "3.6.8"
  }
 },
 "nbformat": 4,
 "nbformat_minor": 2
}
