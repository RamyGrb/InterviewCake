{
 "cells": [
  {
   "cell_type": "markdown",
   "metadata": {},
   "source": [
    "### Recursive String Permutations\n",
    "Write a recursive function of generating all permutations of an input string."
   ]
  },
  {
   "cell_type": "code",
   "execution_count": 10,
   "metadata": {},
   "outputs": [],
   "source": [
    "def permutations(string):\n",
    "    \n",
    "    if len(string)==1:\n",
    "        return [string]\n",
    "    \n",
    "    perm = []\n",
    "    for s in permutations(string[:-1]):\n",
    "        new_string_1 = s + string[-1]\n",
    "        new_string_2 = string[-1] + s\n",
    "        perm.append(new_string_1)\n",
    "        perm.append(new_string_2)\n",
    "        \n",
    "    return perm"
   ]
  },
  {
   "cell_type": "code",
   "execution_count": 11,
   "metadata": {},
   "outputs": [
    {
     "data": {
      "text/plain": [
       "['test', 'ttes', 'stet', 'tste', 'etst', 'tets', 'sett', 'tset']"
      ]
     },
     "execution_count": 11,
     "metadata": {},
     "output_type": "execute_result"
    }
   ],
   "source": [
    "permutations('test')"
   ]
  },
  {
   "cell_type": "markdown",
   "metadata": {},
   "source": [
    "### Compute nth Fibonacci Number\n",
    "Compute the nth Fibonacci number"
   ]
  },
  {
   "cell_type": "markdown",
   "metadata": {},
   "source": [
    "O(n) recursive"
   ]
  },
  {
   "cell_type": "code",
   "execution_count": 49,
   "metadata": {},
   "outputs": [],
   "source": [
    "class Fibo:\n",
    "    def __init__(self):\n",
    "        self.memory = {0:0,1:1}\n",
    "\n",
    "    def comp(self,n):\n",
    "        if n in self.memory:\n",
    "            return self.memory[n]\n",
    "        self.memory[n] = self.comp(n-1)+self.comp(n-2)\n",
    "        return self.memory[n]"
   ]
  },
  {
   "cell_type": "code",
   "execution_count": 52,
   "metadata": {},
   "outputs": [
    {
     "data": {
      "text/plain": [
       "8"
      ]
     },
     "execution_count": 52,
     "metadata": {},
     "output_type": "execute_result"
    }
   ],
   "source": [
    "f = Fibo()\n",
    "f.comp(6)"
   ]
  },
  {
   "cell_type": "markdown",
   "metadata": {},
   "source": [
    "### Making Change\n",
    "Write a function that computes the number of ways to make the amount of money with coins of the available denominations."
   ]
  },
  {
   "cell_type": "code",
   "execution_count": 199,
   "metadata": {},
   "outputs": [],
   "source": [
    "def change_list(amount,denominations):\n",
    "    if amount == 0:\n",
    "        return [[]]\n",
    "    if amount < 0:\n",
    "        return []\n",
    "    changes = []    \n",
    "    for d in denominations:\n",
    "        changes += [[d] + c for c in change_list(amount-d,denominations)] \n",
    "    return changes"
   ]
  },
  {
   "cell_type": "code",
   "execution_count": 225,
   "metadata": {},
   "outputs": [],
   "source": [
    "def change_list(amount,denominations):\n",
    "    combs = [[d] for d in denominations]\n",
    "    finished = []\n",
    "    while combs:\n",
    "        comb = combs[0]\n",
    "        total = sum(comb)\n",
    "        for d in denominations:\n",
    "            if total + d == amount:\n",
    "                finished.append(comb + [d])\n",
    "            elif total + d  < amount:\n",
    "                combs.append(comb + [d])\n",
    "        combs.pop(0)\n",
    "    return finished"
   ]
  },
  {
   "cell_type": "code",
   "execution_count": 226,
   "metadata": {},
   "outputs": [
    {
     "data": {
      "text/plain": [
       "[[1, 3], [2, 2], [3, 1], [1, 1, 2], [1, 2, 1], [2, 1, 1], [1, 1, 1, 1]]"
      ]
     },
     "execution_count": 226,
     "metadata": {},
     "output_type": "execute_result"
    }
   ],
   "source": [
    "amount = 4\n",
    "denominations = [1,2,3]\n",
    "\n",
    "change_list(amount,denominations)"
   ]
  },
  {
   "cell_type": "markdown",
   "metadata": {},
   "source": [
    "### The Cake Thief\n",
    "Write a function max_duffel_bag_value() that takes a list of cake type tuples and a weight capacity, and returns the maximum monetary value the duffel bag can hold."
   ]
  },
  {
   "cell_type": "code",
   "execution_count": 274,
   "metadata": {},
   "outputs": [],
   "source": [
    "def max_duffel_bag_value(cakes, capacity):\n",
    "    trajectories = [[]]\n",
    "    comb = []\n",
    "    price = 0\n",
    "    \n",
    "    while trajectories:\n",
    "        total = sum([c[0] for c in trajectories[0]])\n",
    "        for c in cakes:\n",
    "            if total + c[0] == capacity:\n",
    "                comb.append(trajectories[0]+[c])\n",
    "            if total + c[0] > capacity:\n",
    "                comb.append(trajectories[0])\n",
    "            else:\n",
    "                trajectories.append(trajectories[0]+[c])\n",
    "        trajectories.pop(0)\n",
    "        \n",
    "    for t in comb:\n",
    "        price = max(price,sum([c[1] for c in t]))\n",
    "    \n",
    "    return price"
   ]
  },
  {
   "cell_type": "code",
   "execution_count": 276,
   "metadata": {},
   "outputs": [
    {
     "data": {
      "text/plain": [
       "555"
      ]
     },
     "execution_count": 276,
     "metadata": {},
     "output_type": "execute_result"
    }
   ],
   "source": [
    "cake_tuples = [(7, 160), (3, 90), (2, 15)]\n",
    "capacity    = 20\n",
    "\n",
    "max_duffel_bag_value(cake_tuples, capacity)"
   ]
  },
  {
   "cell_type": "markdown",
   "metadata": {},
   "source": [
    "### Balanced Binary Tree\n",
    "Already done in 5. Trees and Graphs\n",
    "### Binary Search Tree Checker\n",
    "Already done in 5. Trees and Graphs\n",
    "### 2nd Largest Item in a Binary Search Tree\n",
    "Already done in 5. Trees and Graphs"
   ]
  },
  {
   "cell_type": "code",
   "execution_count": null,
   "metadata": {},
   "outputs": [],
   "source": []
  }
 ],
 "metadata": {
  "kernelspec": {
   "display_name": "Python 3",
   "language": "python",
   "name": "python3"
  },
  "language_info": {
   "codemirror_mode": {
    "name": "ipython",
    "version": 3
   },
   "file_extension": ".py",
   "mimetype": "text/x-python",
   "name": "python",
   "nbconvert_exporter": "python",
   "pygments_lexer": "ipython3",
   "version": "3.6.8"
  }
 },
 "nbformat": 4,
 "nbformat_minor": 2
}
