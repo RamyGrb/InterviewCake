{
 "cells": [
  {
   "cell_type": "markdown",
   "metadata": {},
   "source": [
    "### Balanced Binary Tree\n",
    "Write a function to see if a binary tree is \"superbalanced\" aka if the difference between the depths of any two leaf nodes is no greater than one."
   ]
  },
  {
   "cell_type": "code",
   "execution_count": 62,
   "metadata": {},
   "outputs": [],
   "source": [
    "class BinaryTreeNode():\n",
    "    \n",
    "    def __init__(self,value):\n",
    "        self.left = None\n",
    "        self.right = None\n",
    "        self.value = value\n",
    "    \n",
    "    def insert_left(self,value):\n",
    "        self.left = BinaryTreeNode(value)\n",
    "        return self.left\n",
    "    \n",
    "    def insert_right(self,value):\n",
    "        self.right = BinaryTreeNode(value)\n",
    "        return self.right"
   ]
  },
  {
   "cell_type": "code",
   "execution_count": 37,
   "metadata": {},
   "outputs": [],
   "source": [
    "# Difference between depht of two leaf nodes\n",
    "\n",
    "def superbalanced_test(Node):\n",
    "    leaf_levels = {}\n",
    "    current_level = 0\n",
    "    N = [Node]\n",
    "    N_next = []\n",
    "    \n",
    "    while N_next != []:\n",
    "        N_next = []\n",
    "        for node in N:\n",
    "            if node.left == None and node.right == None:\n",
    "                for l in leaf_levels:\n",
    "                    if abs(current_levels - l)>1:\n",
    "                        return False\n",
    "                leaf_levels.add(current_level)\n",
    "            elif node.left == None:\n",
    "                N_next += [node.right]\n",
    "            elif node.right == None:\n",
    "                N_next += [node.left]\n",
    "            else:\n",
    "                N_next += [node.right,node.left]\n",
    "\n",
    "        current_level += 1\n",
    "        N = N_next.copy()\n",
    "    \n",
    "    return True"
   ]
  },
  {
   "cell_type": "code",
   "execution_count": 80,
   "metadata": {},
   "outputs": [
    {
     "data": {
      "text/plain": [
       "<__main__.BinaryTreeNode at 0x106011e48>"
      ]
     },
     "execution_count": 80,
     "metadata": {},
     "output_type": "execute_result"
    }
   ],
   "source": [
    "BST = BinaryTreeNode(4)\n",
    "BST.insert_left(2)\n",
    "BST.left.insert_left(1)\n",
    "BST.left.insert_right(3)\n",
    "BST.insert_right(6)\n",
    "BST.right.insert_left(5)\n",
    "BST.right.insert_right(7)"
   ]
  },
  {
   "cell_type": "code",
   "execution_count": 81,
   "metadata": {},
   "outputs": [
    {
     "data": {
      "text/plain": [
       "True"
      ]
     },
     "execution_count": 81,
     "metadata": {},
     "output_type": "execute_result"
    }
   ],
   "source": [
    "superbalanced_test(BST)"
   ]
  },
  {
   "cell_type": "markdown",
   "metadata": {},
   "source": [
    "### Binary Search Tree Checker\n",
    "Write a function to check that a binary tree is a valid binary search tree."
   ]
  },
  {
   "cell_type": "code",
   "execution_count": 60,
   "metadata": {},
   "outputs": [],
   "source": [
    "# We walk the tree in order to see if the values are sorted or not\n",
    "def BST_check(node, mem_value=float('-infinity')):\n",
    "    \n",
    "    if not node:\n",
    "        return True\n",
    "    \n",
    "    if BST_check(node.left,mem_value) == False:\n",
    "        return False\n",
    "    \n",
    "    if node.value < mem_value:\n",
    "        return False\n",
    "    \n",
    "    mem_value = node.value\n",
    "    \n",
    "    return BST_check(node.right,mem_value)\n",
    "\n",
    "# we look at all the nodes with a minmium and maximum value\n",
    "def BST_check(node,minVal=float('-infinity'),maxVal=float('infinity')):\n",
    "    if not node:\n",
    "        return True\n",
    "        \n",
    "    if not minVal < node.value < maxVal:\n",
    "        return False\n",
    "    \n",
    "    return BST_check(node.left,minVal,node.value) and BST_check(node.right,node.value,maxVal) "
   ]
  },
  {
   "cell_type": "code",
   "execution_count": 78,
   "metadata": {},
   "outputs": [
    {
     "data": {
      "text/plain": [
       "<__main__.BinaryTreeNode at 0x10600f748>"
      ]
     },
     "execution_count": 78,
     "metadata": {},
     "output_type": "execute_result"
    }
   ],
   "source": [
    "BST = BinaryTreeNode(4)\n",
    "BST.insert_left(2)\n",
    "BST.left.insert_left(1)\n",
    "BST.left.insert_right(3)\n",
    "BST.insert_right(6)\n",
    "BST.right.insert_left(5)\n",
    "BST.right.insert_right(7)\n",
    "\n",
    "no_BST = BinaryTreeNode(4)\n",
    "no_BST.insert_left(2)\n",
    "no_BST.left.insert_left(1)\n",
    "no_BST.left.insert_right(3)\n",
    "no_BST.insert_right(6)\n",
    "no_BST.right.insert_left(6.5)\n",
    "no_BST.right.insert_right(7)"
   ]
  },
  {
   "cell_type": "code",
   "execution_count": 79,
   "metadata": {},
   "outputs": [
    {
     "name": "stdout",
     "output_type": "stream",
     "text": [
      "True False\n"
     ]
    }
   ],
   "source": [
    "print(BST_check(BST),BST_check(no_BST))"
   ]
  },
  {
   "cell_type": "markdown",
   "metadata": {},
   "source": [
    "### 2nd Largest Item in a Binary Search Tree\n",
    "Find the second largest element in a binary search tree."
   ]
  },
  {
   "cell_type": "code",
   "execution_count": 61,
   "metadata": {},
   "outputs": [],
   "source": [
    "def sec_largest_BST(node):\n",
    "    \n",
    "    while node.right:\n",
    "        memValue = node.value        \n",
    "        node = node.right\n",
    "    \n",
    "    if node.left:\n",
    "        return node.left.value\n",
    "    \n",
    "    else:\n",
    "        return memValue"
   ]
  },
  {
   "cell_type": "code",
   "execution_count": 69,
   "metadata": {},
   "outputs": [
    {
     "data": {
      "text/plain": [
       "<__main__.BinaryTreeNode at 0x1060114e0>"
      ]
     },
     "execution_count": 69,
     "metadata": {},
     "output_type": "execute_result"
    }
   ],
   "source": [
    "BST = BinaryTreeNode(4)\n",
    "BST.insert_left(2)\n",
    "BST.left.insert_left(1)\n",
    "BST.left.insert_right(3)\n",
    "BST.insert_right(6)\n",
    "BST.right.insert_left(5)\n",
    "BST.right.insert_right(7)"
   ]
  },
  {
   "cell_type": "code",
   "execution_count": 70,
   "metadata": {},
   "outputs": [
    {
     "data": {
      "text/plain": [
       "6"
      ]
     },
     "execution_count": 70,
     "metadata": {},
     "output_type": "execute_result"
    }
   ],
   "source": [
    "sec_largest_BST(BST)"
   ]
  },
  {
   "cell_type": "markdown",
   "metadata": {},
   "source": [
    "### Graph Coloring\n",
    "Color the nodes in a graph so adjacent nodes always have different colors."
   ]
  },
  {
   "cell_type": "code",
   "execution_count": 124,
   "metadata": {},
   "outputs": [],
   "source": [
    "class GraphNode:\n",
    "    def __init__(self, label):\n",
    "        self.label = label\n",
    "        self.neighbors = set()\n",
    "        self.color = None\n",
    "        \n",
    "a = GraphNode('a')\n",
    "b = GraphNode('b')\n",
    "c = GraphNode('c')\n",
    "d = GraphNode('d')\n",
    "e = GraphNode('e')\n",
    "f = GraphNode('f')\n",
    "\n",
    "a.neighbors.add(b)\n",
    "a.neighbors.add(e)\n",
    "b.neighbors.add(a)\n",
    "b.neighbors.add(c)\n",
    "b.neighbors.add(d)\n",
    "c.neighbors.add(b)\n",
    "d.neighbors.add(b)\n",
    "d.neighbors.add(e)\n",
    "d.neighbors.add(f)\n",
    "e.neighbors.add(a)\n",
    "e.neighbors.add(d)\n",
    "f.neighbors.add(d)\n",
    "\n",
    "graph = [a, b, c, d, e, f]\n",
    "degree = 3"
   ]
  },
  {
   "cell_type": "markdown",
   "metadata": {},
   "source": [
    "O(N*D)"
   ]
  },
  {
   "cell_type": "code",
   "execution_count": 121,
   "metadata": {},
   "outputs": [],
   "source": [
    "def coloring(graph,degree):\n",
    "    colors = [i for i in range(degree+1)]\n",
    "    \n",
    "    for node in graph:\n",
    "        for c in colors:\n",
    "            found = False\n",
    "            for neighb in node.neighbors:\n",
    "                if node == neighb:\n",
    "                    continue\n",
    "                if neighb.color == c:\n",
    "                    break\n",
    "                found = True\n",
    "            if found:\n",
    "                node.color = c\n",
    "                break\n",
    "                \n",
    "    return graph"
   ]
  },
  {
   "cell_type": "code",
   "execution_count": 122,
   "metadata": {},
   "outputs": [
    {
     "name": "stdout",
     "output_type": "stream",
     "text": [
      "0\n",
      "1\n",
      "0\n",
      "0\n",
      "1\n",
      "1\n"
     ]
    }
   ],
   "source": [
    "for n in coloring(graph,degree):\n",
    "    print(n.color)"
   ]
  },
  {
   "cell_type": "markdown",
   "metadata": {},
   "source": [
    "O(N+M)"
   ]
  },
  {
   "cell_type": "code",
   "execution_count": 129,
   "metadata": {},
   "outputs": [],
   "source": [
    "def coloring(graph,degree):\n",
    "    colors = [i for i in range(degree+1)]\n",
    "    \n",
    "    for node in graph:\n",
    "        \n",
    "        #list illegal colors\n",
    "        illegal_colors = set()\n",
    "        for neighb in node.neighbors:\n",
    "            if node == neighb:\n",
    "                continue\n",
    "            illegal_colors.add(neighb.color)\n",
    "        \n",
    "        for c in colors:\n",
    "            if c not in illegal_colors:\n",
    "                node.color = c\n",
    "                break\n",
    "                \n",
    "    return graph"
   ]
  },
  {
   "cell_type": "code",
   "execution_count": 130,
   "metadata": {},
   "outputs": [
    {
     "name": "stdout",
     "output_type": "stream",
     "text": [
      "0\n",
      "1\n",
      "0\n",
      "0\n",
      "1\n",
      "1\n"
     ]
    }
   ],
   "source": [
    "for n in coloring(graph,degree):\n",
    "    print(n.color)"
   ]
  },
  {
   "cell_type": "markdown",
   "metadata": {},
   "source": [
    "### MeshMessage\n",
    "Given information about active users on the network, find the shortest route for a message from one user (the sender) to another (the recipient). Return a list of users that make up this route.\n",
    "\n"
   ]
  },
  {
   "cell_type": "markdown",
   "metadata": {},
   "source": [
    "O(N+M) time"
   ]
  },
  {
   "cell_type": "code",
   "execution_count": 201,
   "metadata": {},
   "outputs": [],
   "source": [
    "def shortest_route(network,sender,receiver,already=None):\n",
    "    \n",
    "    neighbors_already_visited = {sender}\n",
    "    paths = [[sender]]\n",
    "    \n",
    "    for p in paths:\n",
    "        last_node = p[-1]\n",
    "        for neighbor in network[last_node]:\n",
    "            if neighbor == receiver:\n",
    "                p.append(neighbor)\n",
    "                return p\n",
    "            if neighbor not in neighbors_already_visited:\n",
    "                neighbors_already_visited.add(neighbor)\n",
    "                new_path = p.copy()\n",
    "                new_path.append(neighbor)\n",
    "                paths.append(new_path)\n",
    "        paths.pop(0)"
   ]
  },
  {
   "cell_type": "code",
   "execution_count": 202,
   "metadata": {},
   "outputs": [],
   "source": [
    "network = {\n",
    "    'Min'     : ['William', 'Jayden', 'Omar'],\n",
    "    'William' : ['Min', 'Noam'],\n",
    "    'Jayden'  : ['Min', 'Amelia', 'Ren', 'Noam'],\n",
    "    'Ren'     : ['Jayden', 'Omar'],\n",
    "    'Amelia'  : ['Jayden', 'Adam', 'Miguel'],\n",
    "    'Adam'    : ['Amelia', 'Miguel', 'Sofia', 'Lucas'],\n",
    "    'Miguel'  : ['Amelia', 'Adam', 'Liam', 'Nathan'],\n",
    "    'Noam'    : ['Nathan', 'Jayden', 'William'],\n",
    "    'Omar'    : ['Ren', 'Min', 'Scott']\n",
    "}"
   ]
  },
  {
   "cell_type": "code",
   "execution_count": 203,
   "metadata": {},
   "outputs": [
    {
     "data": {
      "text/plain": [
       "['Jayden', 'Amelia', 'Adam']"
      ]
     },
     "execution_count": 203,
     "metadata": {},
     "output_type": "execute_result"
    }
   ],
   "source": [
    "shortest_route(network,'Jayden','Adam')"
   ]
  },
  {
   "cell_type": "markdown",
   "metadata": {},
   "source": [
    "### Find a duplicate, Space Edition BEAST MODE\n",
    "Find a dulicate integer in a list in O(n) time with space cost O(1)"
   ]
  },
  {
   "cell_type": "code",
   "execution_count": 228,
   "metadata": {},
   "outputs": [],
   "source": [
    "def find_duplicate(liste):\n",
    "    \n",
    "    for i,n in enumerate(liste):\n",
    "        liste[n%len(liste)] += len(liste)\n",
    "    \n",
    "    for i,n in enumerate(liste):\n",
    "        if n >= 2*len(liste):\n",
    "            return i\n",
    "    \n",
    "    return 'no duplicate'"
   ]
  },
  {
   "cell_type": "code",
   "execution_count": 229,
   "metadata": {},
   "outputs": [
    {
     "data": {
      "text/plain": [
       "5"
      ]
     },
     "execution_count": 229,
     "metadata": {},
     "output_type": "execute_result"
    }
   ],
   "source": [
    "liste = [1, 4, 5, 7, 2, 8, 3, 6, 9, 0, 5]\n",
    "\n",
    "find_duplicate(liste)"
   ]
  }
 ],
 "metadata": {
  "kernelspec": {
   "display_name": "Python 3",
   "language": "python",
   "name": "python3"
  },
  "language_info": {
   "codemirror_mode": {
    "name": "ipython",
    "version": 3
   },
   "file_extension": ".py",
   "mimetype": "text/x-python",
   "name": "python",
   "nbconvert_exporter": "python",
   "pygments_lexer": "ipython3",
   "version": "3.6.8"
  }
 },
 "nbformat": 4,
 "nbformat_minor": 2
}
