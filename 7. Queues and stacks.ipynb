{
 "cells": [
  {
   "cell_type": "markdown",
   "metadata": {},
   "source": [
    "### Largest Stack\n",
    "Access the largest element in a stack"
   ]
  },
  {
   "cell_type": "code",
   "execution_count": 3,
   "metadata": {},
   "outputs": [],
   "source": [
    "  class MaxStack(object):\n",
    "\n",
    "    def __init__(self):\n",
    "        \"\"\"Initialize an empty stack\"\"\"\n",
    "        self.items = []\n",
    "\n",
    "    def push(self, item):\n",
    "        \"\"\"Push a new item onto the stack\"\"\"\n",
    "        self.items.append(item)\n",
    "\n",
    "    def pop(self):\n",
    "        \"\"\"Remove and return the last item\"\"\"\n",
    "        # If the stack is empty, return None\n",
    "        # (it would also be reasonable to throw an exception)\n",
    "        if not self.items:\n",
    "            return None\n",
    "\n",
    "        return self.items.pop()\n",
    "\n",
    "    def peek(self):\n",
    "        \"\"\"Return the last item without removing it\"\"\"\n",
    "        if not self.items:\n",
    "            return None\n",
    "        return self.items[-1]\n",
    "    \n",
    "    def get_max(self):\n",
    "        return max(self.items)"
   ]
  },
  {
   "cell_type": "markdown",
   "metadata": {},
   "source": [
    "### Parenthesis Matching\n",
    "Write a function along with the position of an opening parenthesis, finds the corresponding closing parenthesis."
   ]
  },
  {
   "cell_type": "code",
   "execution_count": 9,
   "metadata": {},
   "outputs": [],
   "source": [
    "def find_match(string,index):\n",
    "    val = 1\n",
    "    for i,s in enumerate(string[index+1:]):\n",
    "        if s == '(':\n",
    "            val += 1\n",
    "        if s == ')':\n",
    "            val -= 1\n",
    "        if val == 0:\n",
    "            return i+1+index"
   ]
  },
  {
   "cell_type": "code",
   "execution_count": 10,
   "metadata": {},
   "outputs": [
    {
     "data": {
      "text/plain": [
       "79"
      ]
     },
     "execution_count": 10,
     "metadata": {},
     "output_type": "execute_result"
    }
   ],
   "source": [
    "string = \"Sometimes (when I nest them (my parentheticals) too much (like this (and this))) they get confusing.\"\n",
    "index = 10\n",
    "\n",
    "find_match(string,index)"
   ]
  },
  {
   "cell_type": "markdown",
   "metadata": {},
   "source": [
    "### Bracket Validator\n",
    "Write a super-simple JavaScript parser that can find bugs in your intern's code."
   ]
  },
  {
   "cell_type": "code",
   "execution_count": 11,
   "metadata": {},
   "outputs": [],
   "source": [
    "def parser(code):\n",
    "    openers = ['(', '{', '[']\n",
    "    closers = [')', '}', ']']\n",
    "    current = []\n",
    "    for c in code:\n",
    "        if c in openers:\n",
    "            current.append(c)\n",
    "        if c in closers:\n",
    "            if current[-1]==openers[closers.index(c)]:\n",
    "                current.pop()\n",
    "            else:\n",
    "                return False\n",
    "    return True"
   ]
  },
  {
   "cell_type": "code",
   "execution_count": 12,
   "metadata": {},
   "outputs": [
    {
     "data": {
      "text/plain": [
       "[True, False, False]"
      ]
     },
     "execution_count": 12,
     "metadata": {},
     "output_type": "execute_result"
    }
   ],
   "source": [
    "test_true = '{[]()}'\n",
    "test_false = '{[(]}'\n",
    "test_false2 = '{[}'\n",
    "\n",
    "[parser(code) for code in [test_true,test_false,test_false2]]"
   ]
  }
 ],
 "metadata": {
  "kernelspec": {
   "display_name": "Python 3",
   "language": "python",
   "name": "python3"
  },
  "language_info": {
   "codemirror_mode": {
    "name": "ipython",
    "version": 3
   },
   "file_extension": ".py",
   "mimetype": "text/x-python",
   "name": "python",
   "nbconvert_exporter": "python",
   "pygments_lexer": "ipython3",
   "version": "3.6.8"
  }
 },
 "nbformat": 4,
 "nbformat_minor": 2
}
