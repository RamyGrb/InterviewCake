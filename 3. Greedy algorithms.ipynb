{
 "cells": [
  {
   "cell_type": "markdown",
   "metadata": {},
   "source": [
    "### Apple stocks\n",
    "Figure out the optimal buy and sell time for a given stock, given its prices yesterday."
   ]
  },
  {
   "cell_type": "markdown",
   "metadata": {},
   "source": [
    "O(n) time and O(1) space"
   ]
  },
  {
   "cell_type": "code",
   "execution_count": 6,
   "metadata": {},
   "outputs": [],
   "source": [
    "def get_max_profit(stock_prices):\n",
    "    min_price = stock_prices[0]\n",
    "    max_profit = 0\n",
    "    \n",
    "    for price in stock_prices:\n",
    "        if price < min_price:\n",
    "            min_price = price\n",
    "        elif price - min_price > max_profit:\n",
    "            max_profit = price - min_price\n",
    "    \n",
    "    return max_profit"
   ]
  },
  {
   "cell_type": "code",
   "execution_count": 7,
   "metadata": {},
   "outputs": [
    {
     "data": {
      "text/plain": [
       "6"
      ]
     },
     "execution_count": 7,
     "metadata": {},
     "output_type": "execute_result"
    }
   ],
   "source": [
    "stock_prices = [10, 7, 5, 8, 11, 9]\n",
    "\n",
    "get_max_profit(stock_prices)"
   ]
  },
  {
   "cell_type": "markdown",
   "metadata": {},
   "source": [
    "### Highest Product of 3\n",
    "\n",
    "Find the highest possible product that you can get by multiplying any 3 numbers from an input array."
   ]
  },
  {
   "cell_type": "code",
   "execution_count": 31,
   "metadata": {},
   "outputs": [],
   "source": [
    "def highest_product(list_of_ints):\n",
    "    nb_list = sorted(list_of_ints[:3],reverse=True)\n",
    "    for i in range(3,len(list_of_ints)):\n",
    "        value = list_of_ints[i]\n",
    "        if value > nb_list[2]:\n",
    "            nb_list.pop()            \n",
    "            if value > nb_list[1]:\n",
    "                if value > nb_list[0]:\n",
    "                    nb_list.insert(0,value)\n",
    "                else:\n",
    "                    nb_list.insert(1,value)                    \n",
    "            else: \n",
    "                nb_list.insert(2,value)\n",
    "    return nb_list[0]*nb_list[1]*nb_list[2]"
   ]
  },
  {
   "cell_type": "code",
   "execution_count": 32,
   "metadata": {},
   "outputs": [
    {
     "data": {
      "text/plain": [
       "990"
      ]
     },
     "execution_count": 32,
     "metadata": {},
     "output_type": "execute_result"
    }
   ],
   "source": [
    "list_of_ints = [10, 7, 5, 8, 11, 9]\n",
    "\n",
    "highest_product(list_of_ints)"
   ]
  },
  {
   "cell_type": "markdown",
   "metadata": {},
   "source": [
    "### Product of all other numbers\n",
    "For each number in an array, find the product of all the other numbers, without using division."
   ]
  },
  {
   "cell_type": "code",
   "execution_count": 48,
   "metadata": {},
   "outputs": [],
   "source": [
    "def get_products_of_all_ints_except_at_index(list_of_ints):\n",
    "    product_list = [None] * len(list_of_ints)\n",
    "    \n",
    "    product = 1\n",
    "    for i in range(len(list_of_ints)):\n",
    "        product_list[i] = product\n",
    "        product *= list_of_ints[i]\n",
    "    \n",
    "    product = 1\n",
    "    for i in range(len(list_of_ints)-1,-1,-1):\n",
    "        product_list[i] *= product\n",
    "        product *= list_of_ints[i]    \n",
    "        \n",
    "    return product_list"
   ]
  },
  {
   "cell_type": "code",
   "execution_count": 49,
   "metadata": {},
   "outputs": [
    {
     "data": {
      "text/plain": [
       "[120, 60, 40, 30, 24]"
      ]
     },
     "execution_count": 49,
     "metadata": {},
     "output_type": "execute_result"
    }
   ],
   "source": [
    "list_of_ints = [1, 2, 3, 4, 5]\n",
    "\n",
    "get_products_of_all_ints_except_at_index(list_of_ints)"
   ]
  },
  {
   "cell_type": "markdown",
   "metadata": {},
   "source": [
    "### Single Riffle Shuffle"
   ]
  },
  {
   "cell_type": "markdown",
   "metadata": {},
   "source": [
    "Write a function to tell us if a deck of cards is a single riffle of two other halves."
   ]
  },
  {
   "cell_type": "markdown",
   "metadata": {},
   "source": [
    "Already done in the 1. problems."
   ]
  },
  {
   "cell_type": "markdown",
   "metadata": {},
   "source": [
    "### In-Place Shuffle\n",
    "Do an in-place uniform shuffle on an array of numbers."
   ]
  },
  {
   "cell_type": "code",
   "execution_count": 58,
   "metadata": {},
   "outputs": [],
   "source": [
    "from random import randint\n",
    "get_random = randint\n",
    "\n",
    "def shuffle(deck):\n",
    "    for i in range(len(deck)):\n",
    "        card_nb = get_random(i,len(deck))\n",
    "        card_value = deck[card_nb]\n",
    "        deck.remove(card_value)\n",
    "        deck.insert(0,card_value)\n",
    "    return deck"
   ]
  }
 ],
 "metadata": {
  "kernelspec": {
   "display_name": "Python 3",
   "language": "python",
   "name": "python3"
  },
  "language_info": {
   "codemirror_mode": {
    "name": "ipython",
    "version": 3
   },
   "file_extension": ".py",
   "mimetype": "text/x-python",
   "name": "python",
   "nbconvert_exporter": "python",
   "pygments_lexer": "ipython3",
   "version": "3.6.8"
  }
 },
 "nbformat": 4,
 "nbformat_minor": 2
}
