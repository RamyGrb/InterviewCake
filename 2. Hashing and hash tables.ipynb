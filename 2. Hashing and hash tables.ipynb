{
 "cells": [
  {
   "cell_type": "markdown",
   "metadata": {},
   "source": [
    "### Inflight Entertainment\n",
    "\n",
    "Write a simple recommendationalgorithm that helps people choose which movies to watch during flights."
   ]
  },
  {
   "cell_type": "markdown",
   "metadata": {},
   "source": [
    "O(n^2) in runtime and O(1) in memory"
   ]
  },
  {
   "cell_type": "code",
   "execution_count": 1,
   "metadata": {},
   "outputs": [],
   "source": [
    "def choose(flight_length, movie_lengths):\n",
    "    boolean = False\n",
    "    for m1 in len(movie_lengths):\n",
    "        for m2 in len(movie_lengths):\n",
    "            if m1 + m2 == flight_length and m1 != m2:\n",
    "                boolean = True\n",
    "    return boolean"
   ]
  },
  {
   "cell_type": "markdown",
   "metadata": {},
   "source": [
    "O(n) in runtime and O(1) in memory"
   ]
  },
  {
   "cell_type": "code",
   "execution_count": 5,
   "metadata": {},
   "outputs": [],
   "source": [
    "import numpy as np\n",
    "\n",
    "def choose(flight_length, movie_lengths):\n",
    "    for m in movie_lengths.keys():\n",
    "        if m-flight_length in movie_lengths and m!= m-flight_length:\n",
    "            return True\n",
    "    return False"
   ]
  },
  {
   "cell_type": "markdown",
   "metadata": {},
   "source": [
    "### Permutation Palindrome\n",
    "Check if any permutation of an input string is a palindrome."
   ]
  },
  {
   "cell_type": "markdown",
   "metadata": {},
   "source": [
    "O(2*n) at worst in runtime, O(n) in memory"
   ]
  },
  {
   "cell_type": "code",
   "execution_count": 24,
   "metadata": {},
   "outputs": [],
   "source": [
    "def palindrome(word):\n",
    "    char = {}\n",
    "    count = 0\n",
    "    for c in word:\n",
    "        if c in char:\n",
    "            char[c] += 1\n",
    "        if c not in char:\n",
    "            char[c] = 1\n",
    "    for v in char.values():\n",
    "        if v%2 == 1:\n",
    "            count +=1\n",
    "    if count <=1:\n",
    "        return True\n",
    "    else:\n",
    "        return False"
   ]
  },
  {
   "cell_type": "code",
   "execution_count": 28,
   "metadata": {},
   "outputs": [
    {
     "data": {
      "text/plain": [
       "True"
      ]
     },
     "execution_count": 28,
     "metadata": {},
     "output_type": "execute_result"
    }
   ],
   "source": [
    "palindrome('civic')"
   ]
  },
  {
   "cell_type": "code",
   "execution_count": 29,
   "metadata": {},
   "outputs": [
    {
     "data": {
      "text/plain": [
       "False"
      ]
     },
     "execution_count": 29,
     "metadata": {},
     "output_type": "execute_result"
    }
   ],
   "source": [
    "palindrome('civil')"
   ]
  },
  {
   "cell_type": "markdown",
   "metadata": {},
   "source": [
    "### Word Cloud Data\n",
    "Write code that takes a long string and builds its word cloud data in a dictionary, where the keys are words and the values are the number of times the words occurred."
   ]
  },
  {
   "cell_type": "markdown",
   "metadata": {},
   "source": [
    "O(n) for runtime and O(n) for memory"
   ]
  },
  {
   "cell_type": "code",
   "execution_count": 62,
   "metadata": {},
   "outputs": [],
   "source": [
    "def cloud(string):\n",
    "    count = {}\n",
    "    string_list = string.lower().split()\n",
    "    for i,w in enumerate(string_list):\n",
    "        w_strip = ''.join(i for i in w if i.isalnum() or i=='-')\n",
    "        if w_strip in count:\n",
    "            count[w_strip] += 1\n",
    "        if w_strip not in count:\n",
    "            count[w_strip] = 1\n",
    "    return count"
   ]
  },
  {
   "cell_type": "code",
   "execution_count": 63,
   "metadata": {},
   "outputs": [
    {
     "data": {
      "text/plain": [
       "{'we': 4,\n",
       " 'came': 1,\n",
       " 'saw': 1,\n",
       " 'conqueredthen': 1,\n",
       " 'ate': 1,\n",
       " 'bills': 1,\n",
       " 'mille-feuille': 1,\n",
       " 'cake': 1}"
      ]
     },
     "execution_count": 63,
     "metadata": {},
     "output_type": "execute_result"
    }
   ],
   "source": [
    "cloud(\"We came, we saw, we conquered...then we ate Bill's (Mille-Feuille) cake.\")"
   ]
  },
  {
   "cell_type": "code",
   "execution_count": 64,
   "metadata": {},
   "outputs": [
    {
     "data": {
      "text/plain": [
       "{'the': 1, 'bill': 1, 'came': 1, 'to': 1, 'five': 1, 'dollars': 1}"
      ]
     },
     "execution_count": 64,
     "metadata": {},
     "output_type": "execute_result"
    }
   ],
   "source": [
    "cloud('The bill came to five dollars.')"
   ]
  },
  {
   "cell_type": "markdown",
   "metadata": {},
   "source": [
    "### Top Scores\n",
    "Efficiently sort numbers in an array, where each number is below a certain maximum."
   ]
  },
  {
   "cell_type": "markdown",
   "metadata": {},
   "source": [
    "O(n) for runtime and O(n) for memory"
   ]
  },
  {
   "cell_type": "code",
   "execution_count": 65,
   "metadata": {},
   "outputs": [],
   "source": [
    "import numpy as np\n",
    "\n",
    "def top_scores(unsorted_scores, highest_possible_score):\n",
    "    scores = {s:0 for s in range(highest_possible_score+1)}\n",
    "    sorted_scores = []\n",
    "    for s in unsorted_scores:\n",
    "        scores[s] += 1\n",
    "    for s in range(highest_possible_score,0,-1):\n",
    "        i = scores[s]\n",
    "        while i>0:\n",
    "            sorted_scores.append(s)\n",
    "            i -= 1\n",
    "    return sorted_scores\n",
    "            "
   ]
  },
  {
   "cell_type": "code",
   "execution_count": 66,
   "metadata": {},
   "outputs": [
    {
     "data": {
      "text/plain": [
       "[91, 89, 65, 53, 41, 37]"
      ]
     },
     "execution_count": 66,
     "metadata": {},
     "output_type": "execute_result"
    }
   ],
   "source": [
    "unsorted_scores = [37, 89, 41, 65, 91, 53]\n",
    "HIGHEST_POSSIBLE_SCORE = 100\n",
    "\n",
    "top_scores(unsorted_scores, HIGHEST_POSSIBLE_SCORE)"
   ]
  }
 ],
 "metadata": {
  "kernelspec": {
   "display_name": "Python 3",
   "language": "python",
   "name": "python3"
  },
  "language_info": {
   "codemirror_mode": {
    "name": "ipython",
    "version": 3
   },
   "file_extension": ".py",
   "mimetype": "text/x-python",
   "name": "python",
   "nbconvert_exporter": "python",
   "pygments_lexer": "ipython3",
   "version": "3.6.8"
  }
 },
 "nbformat": 4,
 "nbformat_minor": 2
}
