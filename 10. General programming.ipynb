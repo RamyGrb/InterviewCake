{
 "cells": [
  {
   "cell_type": "markdown",
   "metadata": {},
   "source": [
    "### Rectangular Love\n",
    "Find the area of overlap between two rectangles."
   ]
  },
  {
   "cell_type": "code",
   "execution_count": 3,
   "metadata": {},
   "outputs": [],
   "source": [
    "def overlap(rec1,rec2):\n",
    "    overlap = my_rectangle()\n",
    "    \n",
    "    rec1.right_x = rec1.left_x + rec1.width\n",
    "    rec1.top_y = rec1.bottom_y + rec1.height\n",
    "    rec2.right_x = rec2.left_x + rec2.width\n",
    "    rec2.top_y = rec2.bottom_y + rec2.height\n",
    "        \n",
    "    if abs(rec1.left_x-rec2.left_x)+abs(rec1.right_x-rec2.right_x) < rec1.width + rec2.width and abs(rec1.bottom_y-rec2.bottomy)+abs(rec1.top_y-rec2.top_y) < rec1.height + rec2.height:\n",
    "        if rec1.left_x in [rec2.left_x,rec2.right_x]:\n",
    "            overlap.left_x = rec1.left_x\n",
    "            if rec1.right_x in [rec2.left_x,rec2.right_x]:\n",
    "                overlap.right_x = rec1.right_x\n",
    "            else:\n",
    "                overlap.right_x = rec2.right_x\n",
    "        else:\n",
    "            overlap.left_x = rec2.left_x\n",
    "            overlap.right_x = rec2.right_x\n",
    "                \n",
    "        if rec1.bottom_y in [rec2.bottom_y,rec2.top_y]:\n",
    "            overlap.bottom_y = rec1.bottom_y\n",
    "            if rec1.top_y in [rec2.left_x,rec2.top_y]:\n",
    "                overlap.top_y = rec1.top_y\n",
    "            else:\n",
    "                overlap.top_y = rec2.top_y\n",
    "        else:\n",
    "            overlap.bottom_y = rec2.bottom_y\n",
    "            overlap.top_y = rec2.top_y\n",
    "    \n",
    "    overlap.width = overlap.right_x - overlap.left_x\n",
    "    overlap.height = overlap.top_y - overlap.bottom_y\n",
    "    \n",
    "    return overlap\n",
    "    "
   ]
  },
  {
   "cell_type": "markdown",
   "metadata": {},
   "source": [
    "### Temperature Tracker\n",
    "Write code to continually track the max, min, mean, and mode as new numbers are inserted"
   ]
  },
  {
   "cell_type": "code",
   "execution_count": 19,
   "metadata": {},
   "outputs": [],
   "source": [
    "class TempTracker:\n",
    "    def __init__(self):\n",
    "        self.temp = []\n",
    "        self.max = 0\n",
    "        self.min = 0\n",
    "        self.mean = 0\n",
    "        self.mode = None\n",
    "        self.count = {}\n",
    "       \n",
    "    def insert(self,t):\n",
    "        self.temp.append(t)\n",
    "        if t > self.max:\n",
    "            self.max = t\n",
    "        if t < self.min:\n",
    "            self.min = t\n",
    "        self.mean = sum(self.temp)/len(self.temp)\n",
    "        self.add_count(t)\n",
    "        self.mode = max(self.count,key=self.count.get)\n",
    "        \n",
    "    def add_count(self,t):\n",
    "        if t in self.count:\n",
    "            self.count[t] += 1\n",
    "        else:\n",
    "            self.count[t] = 0\n",
    "            \n",
    "    def get_max(self):\n",
    "        return self.max\n",
    "    \n",
    "    def get_min(self):\n",
    "        return self.min\n",
    "    \n",
    "    def get_mean(self):\n",
    "        return self.mean\n",
    "    \n",
    "    def get_mode(self):\n",
    "        return self.mode"
   ]
  },
  {
   "cell_type": "code",
   "execution_count": 20,
   "metadata": {},
   "outputs": [
    {
     "name": "stdout",
     "output_type": "stream",
     "text": [
      "max 4 min 0 mean 2.4 mode 2\n"
     ]
    }
   ],
   "source": [
    "track = TempTracker()\n",
    "track.insert(1)\n",
    "track.insert(2)\n",
    "track.insert(3)\n",
    "track.insert(4)\n",
    "track.insert(2)\n",
    "\n",
    "print('max',track.get_max(),'min',track.get_min(),'mean',track.get_mean(),'mode',track.get_mode())"
   ]
  },
  {
   "cell_type": "code",
   "execution_count": null,
   "metadata": {},
   "outputs": [],
   "source": []
  }
 ],
 "metadata": {
  "kernelspec": {
   "display_name": "Python 3",
   "language": "python",
   "name": "python3"
  },
  "language_info": {
   "codemirror_mode": {
    "name": "ipython",
    "version": 3
   },
   "file_extension": ".py",
   "mimetype": "text/x-python",
   "name": "python",
   "nbconvert_exporter": "python",
   "pygments_lexer": "ipython3",
   "version": "3.6.8"
  }
 },
 "nbformat": 4,
 "nbformat_minor": 2
}
